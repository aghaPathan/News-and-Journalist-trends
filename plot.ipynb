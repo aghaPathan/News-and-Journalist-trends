{
 "cells": [
  {
   "cell_type": "code",
   "execution_count": 220,
   "metadata": {},
   "outputs": [
    {
     "name": "stdout",
     "output_type": "stream",
     "text": [
      "{'US': 10, 'chief': 10, 'decision': 10, 'foreign': 10, 'office': 10, 'Asif': 12, 'prime': 13, 'Shahbaz': 15, 'party': 15, 'Pakistan': 18, 'policy': 22, 'Sharif': 25, 'court': 26, 'minister': 29}\n"
     ]
    }
   ],
   "source": [
    "import operator\n",
    "final_dict = {'Asif': 12,\n",
    " 'Pakistan': 18,\n",
    " 'Shahbaz': 15,\n",
    " 'Sharif': 25,\n",
    " 'US': 10,\n",
    " 'chief': 10,\n",
    " 'court': 26,\n",
    " 'decision': 10,\n",
    " 'foreign': 10,\n",
    " 'minister': 29,\n",
    " 'office': 10,\n",
    " 'party': 15,\n",
    " 'policy': 22,\n",
    " 'prime': 13}\n",
    "\n",
    "final_dict = dict(sorted(final_dict.items(), key=operator.itemgetter(1)))\n",
    "print(final_dict)"
   ]
  },
  {
   "cell_type": "code",
   "execution_count": 221,
   "metadata": {},
   "outputs": [
    {
     "name": "stdout",
     "output_type": "stream",
     "text": [
      "[10, 10, 10, 10, 10, 12, 13, 15, 15, 18, 22, 25, 26, 29]\n"
     ]
    }
   ],
   "source": [
    "import math\n",
    "text = []\n",
    "area = []\n",
    "newx = []\n",
    "for key, value in final_dict.items():\n",
    "    #print(key,value)\n",
    "    temp = key\n",
    "    text.append(temp)\n",
    "    #area.append(round((2*math.pi*(math.sqrt(value)))))\n",
    "    area.append((2*math.pi*value)*20)\n",
    "    newx.append(value)\n",
    "    #area.append(value**2)\n",
    "print(newx)"
   ]
  },
  {
   "cell_type": "code",
   "execution_count": 222,
   "metadata": {
    "scrolled": true
   },
   "outputs": [
    {
     "name": "stdout",
     "output_type": "stream",
     "text": [
      "US\n",
      "chief\n",
      "decision\n",
      "foreign\n",
      "office\n",
      "Asif\n",
      "prime\n",
      "Shahbaz\n",
      "party\n",
      "Pakistan\n",
      "policy\n",
      "Sharif\n",
      "court\n",
      "minister\n"
     ]
    }
   ],
   "source": [
    "for i in range(len(text)):\n",
    "    print(text[i])\n",
    "    \n"
   ]
  },
  {
   "cell_type": "code",
   "execution_count": 226,
   "metadata": {},
   "outputs": [
    {
     "name": "stdout",
     "output_type": "stream",
     "text": [
      "[10, 10, 10, 10, 10, 12, 13, 15, 15, 18, 22, 25, 26, 29]\n"
     ]
    }
   ],
   "source": [
    "import random\n",
    "qwe = len(text)\n",
    "y = []\n",
    "for key , value in final_dict.items():\n",
    "    #print(value)\n",
    "    y.append(value)\n",
    "\n",
    "#for i in range()\n",
    "x = random.sample(range(len(y)), qwe)\n",
    "#x = [1,10,20,30,40,50,60,70,80,90,100,110,120,130]\n",
    "#x = list(range(1, 100, 4))\n",
    "#y = random.sample(range(26), qwe)\n",
    "#x = [1,5,10,15,20,25,30,35,]\n",
    "\n",
    "print(y)"
   ]
  },
  {
   "cell_type": "code",
   "execution_count": 224,
   "metadata": {},
   "outputs": [
    {
     "data": {
      "text/plain": [
       "14"
      ]
     },
     "execution_count": 224,
     "metadata": {},
     "output_type": "execute_result"
    }
   ],
   "source": [
    "len(text)"
   ]
  },
  {
   "cell_type": "code",
   "execution_count": 225,
   "metadata": {
    "scrolled": true
   },
   "outputs": [
    {
     "name": "stdout",
     "output_type": "stream",
     "text": [
      "US\n",
      "chief\n",
      "decision\n",
      "foreign\n",
      "office\n",
      "Asif\n",
      "prime\n",
      "Shahbaz\n",
      "party\n",
      "Pakistan\n",
      "policy\n",
      "Sharif\n",
      "court\n",
      "minister\n"
     ]
    },
    {
     "data": {
      "image/png": "[encoded data removed]",
      "text/plain": [
       "<matplotlib.figure.Figure at 0x7f063a636d68>"
      ]
     },
     "metadata": {},
     "output_type": "display_data"
    }
   ],
   "source": [
    "import matplotlib.pyplot as plt\n",
    "\n",
    "#fig = plt.figure()\n",
    "#ax = fig.add_subplot()\n",
    "#plt.text\n",
    "\n",
    "for i in range(len(text)):\n",
    "    print(text[i])\n",
    "    plt.text(x[i], y[i], str(text[i]),  horizontalalignment='center')\n",
    "\n",
    "# making the scatter plot\n",
    "plt.scatter(x, y, s=area, linewidths=2, edgecolor='w')\n",
    "#sct.set_alpha(0.75)\n",
    "\n",
    "#axis([0,11,200,1280])\n",
    "plt.title(\"WORDS USED IN TODAY'S NEWS\")\n",
    "plt.xlabel('Number Of Bubbles')\n",
    "plt.ylabel('Magnitude Wise Scale')\n",
    "#plt.savefig('/home/agha/Sir Naeem/img.png', format='png', dpi=1000)\n",
    "plt.yticks([])\n",
    "#plt.xticks([])\n",
    "plt.show()\n",
    "plt.clf()\n",
    "\n"
   ]
  },
  {
   "cell_type": "code",
   "execution_count": 213,
   "metadata": {},
   "outputs": [
    {
     "data": {
      "text/plain": [
       "'grand_data.png'"
      ]
     },
     "execution_count": 213,
     "metadata": {},
     "output_type": "execute_result"
    }
   ],
   "source": [
    "grand_out = 'grand_data.out'\n",
    "grand_png = grand_out.strip('.out')+str('.png')\n",
    "grand_png"
   ]
  },
  {
   "cell_type": "code",
   "execution_count": 229,
   "metadata": {},
   "outputs": [
    {
     "name": "stdout",
     "output_type": "stream",
     "text": [
      "10\n",
      "10\n",
      "10\n",
      "10\n",
      "10\n",
      "12\n",
      "13\n",
      "15\n",
      "15\n",
      "18\n",
      "22\n",
      "25\n",
      "26\n",
      "29\n"
     ]
    }
   ],
   "source": [
    "new_x= []\n",
    "temp= []\n",
    "j = 0\n",
    "for i in range(len(y)):\n",
    "    print(y[i])\n",
    "    if y[i] not in new:\n",
    "        new_x.append(y[i])\n",
    "     \n",
    "        "
   ]
  },
  {
   "cell_type": "code",
   "execution_count": null,
   "metadata": {
    "collapsed": true
   },
   "outputs": [],
   "source": []
  }
 ],
 "metadata": {
  "kernelspec": {
   "display_name": "Python 3",
   "language": "python",
   "name": "python3"
  },
  "language_info": {
   "codemirror_mode": {
    "name": "ipython",
    "version": 3
   },
   "file_extension": ".py",
   "mimetype": "text/x-python",
   "name": "python",
   "nbconvert_exporter": "python",
   "pygments_lexer": "ipython3",
   "version": "3.6.2"
  }
 },
 "nbformat": 4,
 "nbformat_minor": 2
}
