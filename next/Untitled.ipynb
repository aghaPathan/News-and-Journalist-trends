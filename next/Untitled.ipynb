{
 "cells": [
  {
   "cell_type": "code",
   "execution_count": 1,
   "metadata": {
    "collapsed": true
   },
   "outputs": [],
   "source": [
    "from nltk.tokenize import sent_tokenize, word_tokenize\n",
    "from nltk.corpus import stopwords\n",
    " \n"
   ]
  },
  {
   "cell_type": "code",
   "execution_count": 63,
   "metadata": {},
   "outputs": [
    {
     "name": "stdout",
     "output_type": "stream",
     "text": [
      "The heads nearly parliamentary parties Tuesday agreed increase number seats National Assembly, favour fresh delimitation constituencies, take place next year’s general elections \n",
      "Apart issues highlighted Muttah­i­da Qaumi Movement (MQM) Pakistan Peo­ples Party (PPP) — government agreed address passage fresh law — decision table delimitation bill National Assembly session beginning Thursday made consensus \n",
      "Since number NA seats Sindh would remain same, MQM demanded fresh delimitation basis number voters constituency, instead number people \n",
      "“The meeting held threadbare discussion decided increase made existing 272 seats lower house fresh delimitation constituencies made basis 2017 census,” NA Speaker Sardar Ayaz Sadiq, chaired Tuesday’s meeting, later told press conference \n",
      "He also revealed committee decided increase decrease number provincial assembly seats \n",
      "The delimitation national provincial assembly constituencies mandatory fresh consensus government needs two-thirds majority pass constitutional amendment \n",
      "Punjab stands lose nine seats fresh delimitation; constitutional amendment tabled week The meeting, also attended senior officials Election Commission Pakistan (ECP), National Database Registration Authority (Nadra), statistics division law ministry, assured institutions next general elections would held time, speaker said \n",
      "“We called emergency meeting decide matter bill regarding delimitation constituencies tabled new NA session commencing Thursday,” said, adding hopeful bill would sail houses parliament within two days \n",
      "“In fact, Election Commission already running short time demanded prompt decision fresh delimitation start process preparing next elections April 2017,” added \n",
      "The meeting attended Leader Opposition National Assembly Syed Khursheed Shah Naveed Qamar PPP, Law Minister Zahid Hamid, Minister Parliamentary Affairs Aftab Sheikh, Minister Housing Akram Durrani, Shah Mehmood Qureshi Pakistan Tehreek-i-Insaf (PTI), Ghulam Ahmed Bilour Awami National Party (ANP), MQM’s Farooq Sattar, Sahibzada Tariqullah Jamaat-i-Islami (JI) Mehmood Khan Achakzai Pakhtunkhwa Milli Awami Party (PkMAP) \n",
      "The NA speaker told reporters next meeting parliamentary leaders would held Thursday, minute detail 2017 census would laid members \n",
      "“The census record tehsil-level shared members satisfaction,” said \n",
      "During press conference, PTI Vice Chairman Shah Mehmood Qureshi said decision increase number seats taken consensus \n",
      "He said entire effort made ensure next general elections held time \n",
      "PPP leader Naveed Qamar said party agreed fresh delimitations condition concerns would addressed \n",
      "Talking reporters later, MQM leader Farooq Sattar said although party accepted committee’s decision, demanded fresh delimitation made number voters population \n",
      "“It unfair criteria forming constituency one province different criteria followed another province,” said \n",
      "He said party serious objections results fresh census accept \n",
      "“Nadra told Senate 2013 total population Karachi exceeded 20 million, 2017 census put 14 \n",
      "9 million,” added \n",
      "Although number seats National Assembly remain 272, fresh delimitation would affect Punjab, dominated ruling Pakistan Muslim League-Nawaz (PML-N), province stands lose nine seats lower house \n",
      "Khyber Pakhtunkhwa get five new seats, Balochistan get three Islamabad Capital Territory receive one additional seat \n",
      "The Federally Administered Tribal Areas (Fata) retain 12 seats assembly \n",
      "The PML-N currently majority share 148 seats lower house \n",
      "However, 2017 census revealed population growth rate Punjab lowest among federating units \n",
      "\n"
     ]
    }
   ],
   "source": [
    "data = open('/home/agha/Sir Naeem/next/news.rawtext', 'r')\n",
    "data = data.read()\n",
    "data = ' '.join(data.split())\n",
    "\n",
    "#data = \"All work and no play makes jack dull boy. All work and no play makes jack a dull boy.\"\n",
    "stopWords = set(stopwords.words('english'))\n",
    "#words = word_tokenize(data)\n",
    "#wordsFiltered = []\n",
    "\n",
    "\n",
    "#f = open(filename, 'r+')\n",
    "#temp = f.read()\n",
    "#temp = ' '.join(temp.split())\n",
    "\n",
    "\n",
    "def check(sentence):\n",
    "    temp = ''\n",
    "    for x in sentence.split():\n",
    "        if x in stopWords:\n",
    "            pass\n",
    "        if x not in stopWords:\n",
    "            #print(x)\n",
    "            temp = temp + str(x) + ' '\n",
    "    \n",
    "    return temp\n",
    "            \n",
    "    \n",
    "\n",
    "\n",
    "\n",
    "filtered = ''\n",
    "sentence = ''\n",
    "for x in data:\n",
    "    if x != '.':\n",
    "        sentence = sentence + x\n",
    "    if x == '.':\n",
    "        #sentence = sentence\n",
    "        filtered = filtered + check(sentence)  + '\\n'\n",
    "        #new_f.write(sentence)\n",
    "        sentence = ''\n",
    "\n",
    " \n",
    "\n",
    "\n",
    "##\n",
    "#for w in words:\n",
    "#    if w not in stopWords:\n",
    "#        wordsFiltered.append(w)\n",
    " \n",
    "#print(wordsFiltered)\n",
    "print(filtered)"
   ]
  },
  {
   "cell_type": "code",
   "execution_count": 96,
   "metadata": {
    "scrolled": true
   },
   "outputs": [
    {
     "name": "stdout",
     "output_type": "stream",
     "text": [
      "”\n",
      "”\n",
      "”\n"
     ]
    }
   ],
   "source": [
    "no = ['The', 'the', '\"', '\"The']\n",
    "def save(data):\n",
    "    grand = open('/home/agha/Sir Naeem/next/grand_data.out', 'a')\n",
    "    grand.write(str(data)+'\\n')\n",
    "    grand.close()\n",
    "\n",
    "    \n",
    "\n",
    "\n",
    "news = open('/home/agha/Sir Naeem/next/news.out', 'r')\n",
    "data = news.read()\n",
    "data = data.split('\\n')\n",
    "for x in data:\n",
    "    save(x)"
   ]
  },
  {
   "cell_type": "code",
   "execution_count": 72,
   "metadata": {
    "scrolled": true
   },
   "outputs": [
    {
     "name": "stdout",
     "output_type": "stream",
     "text": [
      "['He', '(12)']\n",
      "['assembly', '(12)']\n",
      "['party', '(12)']\n",
      "['population', '(12)']\n",
      "['demanded', '(12)']\n",
      "['consensus', '(12)']\n",
      "['told', '(12)']\n",
      "['lower', '(12)']\n",
      "['agreed', '(12)']\n",
      "['house', '(12)']\n",
      "['time', '(12)']\n",
      "['general', '(12)']\n",
      "['Thursday', '(12)']\n",
      "['Punjab', '(12)']\n",
      "['increase', '(16)']\n",
      "['decision', '(16)']\n",
      "['made', '(16)']\n",
      "['NA', '(16)']\n",
      "['census', '(24)']\n",
      "['elections', '(16)']\n",
      "['constituencies', '(16)']\n",
      "['held', '(16)']\n",
      "['number', '(24)']\n",
      "['next', '(20)']\n",
      "['Assembly', '(16)']\n",
      "['would', '(24)']\n",
      "['Pakistan', '(16)']\n",
      "['said', '(36)']\n",
      "['National', '(20)']\n",
      "['meeting', '(20)']\n",
      "['seats', '(40)']\n",
      "['delimitation', '(36)']\n",
      "['fresh', '(44)']\n",
      "['formula', '(13.6364)']\n",
      "['Abbasi', '(13.6364)']\n",
      "['official', '(13.6364)']\n",
      "['Pakistan', '(18.1818)']\n",
      "['claimants', '(13.6364)']\n",
      "['Nawaz', '(13.6364)']\n",
      "['could', '(13.6364)']\n",
      "['said', '(18.1818)']\n",
      "['Punjab', '(18.1818)']\n",
      "['meeting', '(22.7273)']\n",
      "['decision', '(18.1818)']\n",
      "['chief', '(18.1818)']\n",
      "['Shahbaz', '(27.2727)']\n",
      "['party', '(27.2727)']\n",
      "['prime', '(22.7273)']\n",
      "['minister', '(22.7273)']\n",
      "['office', '(22.7273)']\n",
      "['Sharif', '(45.4545)']\n",
      "['America', '(11.5385)']\n",
      "['Afghanistan', '(11.5385)']\n",
      "['devised', '(11.5385)']\n",
      "['country', '(11.5385)']\n",
      "['assured', '(15.3846)']\n",
      "['foreign', '(19.2308)']\n",
      "['Afghan', '(15.3846)']\n",
      "['said', '(23.0769)']\n",
      "['American', '(15.3846)']\n",
      "['assertion', '(15.3846)']\n",
      "['US', '(15.3846)']\n",
      "['Asif', '(19.2308)']\n",
      "['Pakistan', '(26.9231)']\n",
      "['policy', '(46.1538)']\n",
      "[]\n"
     ]
    }
   ],
   "source": [
    "for x in data:\n",
    "    print(x.split())"
   ]
  },
  {
   "cell_type": "code",
   "execution_count": 100,
   "metadata": {},
   "outputs": [
    {
     "name": "stdout",
     "output_type": "stream",
     "text": [
      "second\n",
      "first\n"
     ]
    }
   ],
   "source": [
    "a = [1,2,3,4,5,6]\n",
    "for x in a:\n",
    "    if x == 2:\n",
    "        print('first')\n",
    "    elif x == 1:\n",
    "        print('second')\n",
    "        "
   ]
  },
  {
   "cell_type": "code",
   "execution_count": null,
   "metadata": {
    "collapsed": true
   },
   "outputs": [],
   "source": []
  }
 ],
 "metadata": {
  "kernelspec": {
   "display_name": "Python 3",
   "language": "python",
   "name": "python3"
  },
  "language_info": {
   "codemirror_mode": {
    "name": "ipython",
    "version": 3
   },
   "file_extension": ".py",
   "mimetype": "text/x-python",
   "name": "python",
   "nbconvert_exporter": "python",
   "pygments_lexer": "ipython3",
   "version": "3.6.2"
  }
 },
 "nbformat": 4,
 "nbformat_minor": 2
}
