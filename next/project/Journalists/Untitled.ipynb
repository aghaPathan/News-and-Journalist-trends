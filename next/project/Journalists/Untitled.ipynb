{
 "cells": [
  {
   "cell_type": "code",
   "execution_count": 14,
   "metadata": {
    "collapsed": true
   },
   "outputs": [],
   "source": [
    "\n",
    "import os\n",
    "import time\n",
    "from nltk import pos_tag\n",
    "from nltk.tokenize import sent_tokenize, word_tokenize\n",
    "from nltk.corpus import stopwords\n",
    "import subprocess\n",
    "from collections import Counter\n",
    "import collections\n",
    "import math\n",
    "import matplotlib.pyplot as plt\n",
    "import numpy as np"
   ]
  },
  {
   "cell_type": "code",
   "execution_count": 22,
   "metadata": {},
   "outputs": [],
   "source": [
    "article = {'Article 12': {'caste': '20.6897', 'It': '13.7931', 'society': '13.7931', 'even': '10.3448', 'much': '10.3448'}, 'Article 01': {'people': '25', 'young': '21.875', 'youth': '18.75', 'It': '15.625', 'little': '12.5'}, 'Article 16': {'ideas': '13.8889', 'lynching': '11.1111', 'But': '11.1111', 'Mashal': '11.1111', 'students': '11.1111'}, 'Article 03': {'power': '16.2162', 'even': '13.5135', 'much': '10.8108', 'Fata': '10.8108', 'system': '10.8108'}, 'Article 13': {'China': '20', 'India': '16.6667', 'US': '16.6667', 'Iran': '13.3333', 'In': '13.3333'}, 'Article 10': {'system': '19.2308', 'opinion’': '15.3846', 'even': '15.3846', 'minister': '15.3846', 'prime': '15.3846'}, 'Article 15': {'India': '23.5294', 'Kumar': '14.7059', 'like': '14.7059', 'In': '14.7059', 'political': '14.7059'}, 'Article 05': {'people': '14.8148', 'many': '14.8148', 'power': '14.8148', 'one': '14.8148', 'Pakistan': '11.1111'}, 'Article 08': {'Sharif': '27.2727', 'people': '22.7273', 'state': '22.7273', 'power': '22.7273', 'Pakistan': '18.1818'}, 'Article 14': {'hate': '44.8276', 'politics': '24.1379', 'Baloch': '20.6897', 'another': '13.7931', 'violence': '13.7931'}, 'Article 18': {'great': '27.2727', 'I': '15.1515', '‘greatness’': '12.1212', 'people': '12.1212'}, 'Article 06': {'state': '25.9259', 'communities': '18.5185', 'world': '14.8148', 'Rohingyas': '14.8148', 'ethnic': '14.8148'}, 'Article 04': {'world': '19.3548', 'era': '19.3548', 'Trump': '19.3548', 'violence': '16.129', 'US': '16.129'}, 'Article 09': {'world': '22.5806', 'model': '16.129', 'resources': '16.129', 'imperative': '12.9032', 'ecological': '12.9032'}, 'Article 02': {'Musharraf': '40', 'political': '17.1429', 'Musharraf’s': '14.2857', 'It': '11.4286', 'time': '11.4286'}, 'Article 20': {'state': '20', 'one': '17.1429', 'violence': '14.2857', 'time': '14.2857', 'political': '11.4286'}, 'Article 11': {'bourgeoisie': '41.3793', 'society': '17.2414', 'democratisation': '13.7931', 'state': '13.7931', '‘educated’': '10.3448'}, 'Article 17': {'state': '28', 'left': '24', 'Pakistani': '20', 'years': '16', 'new': '16'}, 'Article 07': {'society’': '60.7143', '‘civil': '60.7143', 'state': '21.4286', '‘free': '17.8571', 'market’': '17.8571'}, 'Article 19': {'border': '26.6667', 'Afghanistan': '26.6667', 'state': '23.3333', 'people': '20', 'one': '16.6667'}}"
   ]
  },
  {
   "cell_type": "code",
   "execution_count": 23,
   "metadata": {
    "scrolled": true
   },
   "outputs": [
    {
     "ename": "IndexError",
     "evalue": "list index out of range",
     "output_type": "error",
     "traceback": [
      "\u001b[0;31m---------------------------------------------------------------------------\u001b[0m",
      "\u001b[0;31mIndexError\u001b[0m                                Traceback (most recent call last)",
      "\u001b[0;32m<ipython-input-23-4e919baa7a45>\u001b[0m in \u001b[0;36m<module>\u001b[0;34m()\u001b[0m\n\u001b[1;32m     11\u001b[0m \u001b[0;34m\u001b[0m\u001b[0m\n\u001b[1;32m     12\u001b[0m     \u001b[0;32mreturn\u001b[0m \u001b[0mdictionary\u001b[0m\u001b[0;34m\u001b[0m\u001b[0m\n\u001b[0;32m---> 13\u001b[0;31m \u001b[0mconvert_to_dict\u001b[0m\u001b[0;34m(\u001b[0m\u001b[0marticle\u001b[0m\u001b[0;34m)\u001b[0m\u001b[0;34m\u001b[0m\u001b[0m\n\u001b[0m",
      "\u001b[0;32m<ipython-input-23-4e919baa7a45>\u001b[0m in \u001b[0;36mconvert_to_dict\u001b[0;34m(dictionary)\u001b[0m\n\u001b[1;32m      5\u001b[0m             \u001b[0;32mif\u001b[0m \u001b[0mx\u001b[0m \u001b[0;34m!=\u001b[0m \u001b[0;34m''\u001b[0m\u001b[0;34m:\u001b[0m\u001b[0;34m\u001b[0m\u001b[0m\n\u001b[1;32m      6\u001b[0m                 \u001b[0mtemp\u001b[0m \u001b[0;34m=\u001b[0m \u001b[0mx\u001b[0m\u001b[0;34m.\u001b[0m\u001b[0msplit\u001b[0m\u001b[0;34m(\u001b[0m\u001b[0;34m)\u001b[0m\u001b[0;34m\u001b[0m\u001b[0m\n\u001b[0;32m----> 7\u001b[0;31m                 \u001b[0mdict_temp\u001b[0m\u001b[0;34m[\u001b[0m\u001b[0mtemp\u001b[0m\u001b[0;34m[\u001b[0m\u001b[0;36m0\u001b[0m\u001b[0;34m]\u001b[0m\u001b[0;34m]\u001b[0m \u001b[0;34m=\u001b[0m \u001b[0mtemp\u001b[0m\u001b[0;34m[\u001b[0m\u001b[0;36m1\u001b[0m\u001b[0;34m]\u001b[0m\u001b[0;34m.\u001b[0m\u001b[0mstrip\u001b[0m\u001b[0;34m(\u001b[0m\u001b[0;34m'()'\u001b[0m\u001b[0;34m)\u001b[0m\u001b[0;34m\u001b[0m\u001b[0m\n\u001b[0m\u001b[1;32m      8\u001b[0m \u001b[0;34m\u001b[0m\u001b[0m\n\u001b[1;32m      9\u001b[0m         \u001b[0mdictionary\u001b[0m\u001b[0;34m[\u001b[0m\u001b[0mkey\u001b[0m\u001b[0;34m]\u001b[0m \u001b[0;34m=\u001b[0m \u001b[0mdict_temp\u001b[0m\u001b[0;34m\u001b[0m\u001b[0m\n",
      "\u001b[0;31mIndexError\u001b[0m: list index out of range"
     ]
    }
   ],
   "source": [
    "def convert_to_dict(dictionary):\n",
    "    dict_temp = {}\n",
    "    for key, result in dictionary.items():\n",
    "        for x in result:\n",
    "            if x != '':\n",
    "                temp = x.split()\n",
    "                dict_temp[temp[0]] = temp[1].strip('()')\n",
    "                \n",
    "        dictionary[key] = dict_temp\n",
    "        dict_temp = {}\n",
    "\n",
    "    return dictionary\n",
    "convert_to_dict(article)"
   ]
  },
  {
   "cell_type": "code",
   "execution_count": 24,
   "metadata": {},
   "outputs": [
    {
     "ename": "UnboundLocalError",
     "evalue": "local variable 'temp' referenced before assignment",
     "output_type": "error",
     "traceback": [
      "\u001b[0;31m---------------------------------------------------------------------------\u001b[0m",
      "\u001b[0;31mUnboundLocalError\u001b[0m                         Traceback (most recent call last)",
      "\u001b[0;32m<ipython-input-24-171b297f82f1>\u001b[0m in \u001b[0;36m<module>\u001b[0;34m()\u001b[0m\n\u001b[1;32m     19\u001b[0m     \u001b[0;32mreturn\u001b[0m \u001b[0mt\u001b[0m\u001b[0;34m\u001b[0m\u001b[0m\n\u001b[1;32m     20\u001b[0m \u001b[0;34m\u001b[0m\u001b[0m\n\u001b[0;32m---> 21\u001b[0;31m \u001b[0mqwe\u001b[0m \u001b[0;34m=\u001b[0m \u001b[0mhandler\u001b[0m\u001b[0;34m(\u001b[0m\u001b[0marticle\u001b[0m\u001b[0;34m)\u001b[0m\u001b[0;34m\u001b[0m\u001b[0m\n\u001b[0m",
      "\u001b[0;32m<ipython-input-24-171b297f82f1>\u001b[0m in \u001b[0;36mhandler\u001b[0;34m(article)\u001b[0m\n\u001b[1;32m     15\u001b[0m                 \u001b[0mtemp\u001b[0m \u001b[0;34m=\u001b[0m\u001b[0mremovekey\u001b[0m\u001b[0;34m(\u001b[0m\u001b[0minner\u001b[0m\u001b[0;34m,\u001b[0m \u001b[0mkey\u001b[0m\u001b[0;34m)\u001b[0m\u001b[0;34m\u001b[0m\u001b[0m\n\u001b[1;32m     16\u001b[0m                 \u001b[0;31m#print(inner)\u001b[0m\u001b[0;34m\u001b[0m\u001b[0;34m\u001b[0m\u001b[0m\n\u001b[0;32m---> 17\u001b[0;31m         \u001b[0mi\u001b[0m \u001b[0;34m=\u001b[0m \u001b[0mtemp\u001b[0m\u001b[0;34m\u001b[0m\u001b[0m\n\u001b[0m\u001b[1;32m     18\u001b[0m \u001b[0;34m\u001b[0m\u001b[0m\n\u001b[1;32m     19\u001b[0m     \u001b[0;32mreturn\u001b[0m \u001b[0mt\u001b[0m\u001b[0;34m\u001b[0m\u001b[0m\n",
      "\u001b[0;31mUnboundLocalError\u001b[0m: local variable 'temp' referenced before assignment"
     ]
    }
   ],
   "source": [
    "\n",
    "def removekey(d, key):\n",
    "    r = dict(d)\n",
    "    del r[key]\n",
    "    return r\n",
    "\n",
    "\n",
    "\n",
    "def handler(article):\n",
    "    t = dict(article)\n",
    "    for key, inner in t.items():\n",
    "        i = dict(inner)\n",
    "        for key, value in inner.items():\n",
    "            if '\"' in key or 'The' in key:\n",
    "                temp =removekey(inner, key)\n",
    "                #print(inner)\n",
    "        i = temp\n",
    "\n",
    "    return t\n",
    "    \n",
    "qwe = handler(article)"
   ]
  },
  {
   "cell_type": "code",
   "execution_count": 5,
   "metadata": {},
   "outputs": [
    {
     "data": {
      "text/plain": [
       "{'articl': {'But': '12',\n",
       "  'Nawaz': '18',\n",
       "  'The': '18',\n",
       "  'could': '12',\n",
       "  'court': '10',\n",
       "  'election': '10',\n",
       "  'elections': '20',\n",
       "  'may': '12',\n",
       "  'next': '10',\n",
       "  'option': '10',\n",
       "  'political': '12'},\n",
       " 'article10': {'2013': '13.0435',\n",
       "  '2018': '10.8696',\n",
       "  'N-League': '17.3913',\n",
       "  'Nawaz': '10.8696',\n",
       "  'PML-N': '17.3913',\n",
       "  'PPP': '17.3913',\n",
       "  'PTI': '15.2174',\n",
       "  'Punjab': '10.8696',\n",
       "  'So': '10.8696',\n",
       "  'The': '28.2609',\n",
       "  'Zardari': '10.8696',\n",
       "  'like': '13.0435'},\n",
       " 'article11': {'If': '11.8644',\n",
       "  'Nawaz': '23.7288',\n",
       "  'The': '18.6441',\n",
       "  'boys': '10.1695',\n",
       "  'shut': '11.8644'},\n",
       " 'article12': {'Afghanistan': '10.3448',\n",
       "  'But': '12.069',\n",
       "  'China': '18.9655',\n",
       "  'Pakistan': '12.069',\n",
       "  'Russia': '15.5172',\n",
       "  'The': '18.9655',\n",
       "  'dismaying': '10.3448',\n",
       "  'excitement': '12.069',\n",
       "  'us': '13.7931'},\n",
       " 'article13': {'Afghanistan': '13.5593',\n",
       "  'And': '13.5593',\n",
       "  'But': '11.8644',\n",
       "  'Pakistan': '15.2542',\n",
       "  'The': '22.0339',\n",
       "  'lot': '13.5593',\n",
       "  'militarised': '13.5593',\n",
       "  'state': '16.9492',\n",
       "  'us': '10.1695'},\n",
       " 'article14': {'Nawaz': '21.0526', 'wants': '10.5263'},\n",
       " 'article15': {'But': '12.7273',\n",
       "  'GT': '10.9091',\n",
       "  'Nawaz': '21.8182',\n",
       "  'Road': '10.9091',\n",
       "  'The': '20',\n",
       "  'boys': '10.9091'},\n",
       " 'article16': {'And': '12.8571',\n",
       "  'Nawaz': '22.8571',\n",
       "  'The': '10',\n",
       "  'office': '11.4286'},\n",
       " 'article17': {'But': '10',\n",
       "  'Nawaz': '24',\n",
       "  'The': '14',\n",
       "  'base': '14',\n",
       "  'cohort': '18',\n",
       "  'enough': '10',\n",
       "  'judgement': '10',\n",
       "  'made': '10',\n",
       "  'people': '10',\n",
       "  'politician': '10',\n",
       "  'politics': '12'},\n",
       " 'article18': {'It': '18.75',\n",
       "  'Nawaz': '12.5',\n",
       "  'PML-N': '31.25',\n",
       "  'Sharif': '34.375',\n",
       "  'The': '15.625',\n",
       "  'election': '15.625',\n",
       "  'leader': '12.5',\n",
       "  'minister': '15.625',\n",
       "  'party': '15.625',\n",
       "  'political': '25',\n",
       "  'prime': '18.75'},\n",
       " 'article19': {'Nawaz': '19.6721', 'The': '11.4754'},\n",
       " 'article2': {'But': '11.3208',\n",
       "  'Nawaz': '20.7547',\n",
       "  'Senate': '15.0943',\n",
       "  'The': '15.0943',\n",
       "  'could': '11.3208',\n",
       "  'party': '11.3208',\n",
       "  'would': '18.8679'},\n",
       " 'article20': {'JIT': '21.3333',\n",
       "  'Nawaz': '22.6667',\n",
       "  'The': '12',\n",
       "  'report': '13.3333'},\n",
       " 'article3': {'The': '23.8095',\n",
       "  'enough': '11.1111',\n",
       "  'new': '14.2857',\n",
       "  'reforms': '14.2857'},\n",
       " 'article4': {'Nawaz': '28.7879', 'Shahbaz': '10.6061', 'The': '13.6364'},\n",
       " 'article5': {'The': '12.7273', 'family': '10.9091'},\n",
       " 'article6': {'He': '12.3077', 'Raheel': '10.7692', 'chief': '13.8462'},\n",
       " 'article7': {'Nawaz': '27.7778',\n",
       "  'The': '29.6296',\n",
       "  'back': '11.1111',\n",
       "  'could': '16.6667',\n",
       "  'like': '11.1111',\n",
       "  'system': '22.2222'},\n",
       " 'article8': {'Nawaz': '28.3019',\n",
       "  'The': '28.3019',\n",
       "  'back': '11.3208',\n",
       "  'could': '16.9811',\n",
       "  'like': '11.3208',\n",
       "  'system': '22.6415'},\n",
       " 'article9': {'2013': '13.0435',\n",
       "  '2018': '10.8696',\n",
       "  'N-League': '17.3913',\n",
       "  'Nawaz': '10.8696',\n",
       "  'PML-N': '17.3913',\n",
       "  'PPP': '17.3913',\n",
       "  'PTI': '15.2174',\n",
       "  'Punjab': '10.8696',\n",
       "  'So': '10.8696',\n",
       "  'The': '28.2609',\n",
       "  'Zardari': '10.8696',\n",
       "  'like': '13.0435'}}"
      ]
     },
     "execution_count": 5,
     "metadata": {},
     "output_type": "execute_result"
    }
   ],
   "source": [
    "qwe"
   ]
  },
  {
   "cell_type": "code",
   "execution_count": null,
   "metadata": {
    "collapsed": true
   },
   "outputs": [],
   "source": []
  },
  {
   "cell_type": "code",
   "execution_count": 25,
   "metadata": {
    "collapsed": true
   },
   "outputs": [],
   "source": [
    "def trim_dict(day_dict,n):\n",
    "    td = {}\n",
    "    for key, value in day_dict.items():\n",
    "        if '1' in n:\n",
    "            if len(key.split()) == 1:\n",
    "                td[key] = value\n",
    "\n",
    "        if '2' in n:\n",
    "            if len(key.split()) == 2:\n",
    "                td[key] = value\n",
    "\n",
    "        if '3' in n:\n",
    "            if len(key.split()) == 3:\n",
    "                td[key] = value\n",
    "\n",
    "        if '4' in n:\n",
    "            if len(key.split()) == 4:\n",
    "                td[key] = value\n",
    "\n",
    "    return td"
   ]
  },
  {
   "cell_type": "code",
   "execution_count": 26,
   "metadata": {},
   "outputs": [
    {
     "data": {
      "text/plain": [
       "{'Article 01': {'It': '15.625',\n",
       "  'little': '12.5',\n",
       "  'people': '25',\n",
       "  'young': '21.875',\n",
       "  'youth': '18.75'},\n",
       " 'Article 02': {'It': '11.4286',\n",
       "  'Musharraf': '40',\n",
       "  'Musharraf’s': '14.2857',\n",
       "  'political': '17.1429',\n",
       "  'time': '11.4286'},\n",
       " 'Article 03': {'Fata': '10.8108',\n",
       "  'even': '13.5135',\n",
       "  'much': '10.8108',\n",
       "  'power': '16.2162',\n",
       "  'system': '10.8108'},\n",
       " 'Article 04': {'Trump': '19.3548',\n",
       "  'US': '16.129',\n",
       "  'era': '19.3548',\n",
       "  'violence': '16.129',\n",
       "  'world': '19.3548'},\n",
       " 'Article 05': {'Pakistan': '11.1111',\n",
       "  'many': '14.8148',\n",
       "  'one': '14.8148',\n",
       "  'people': '14.8148',\n",
       "  'power': '14.8148'},\n",
       " 'Article 06': {'Rohingyas': '14.8148',\n",
       "  'communities': '18.5185',\n",
       "  'ethnic': '14.8148',\n",
       "  'state': '25.9259',\n",
       "  'world': '14.8148'},\n",
       " 'Article 07': {'market’': '17.8571',\n",
       "  'society’': '60.7143',\n",
       "  'state': '21.4286',\n",
       "  '‘civil': '60.7143',\n",
       "  '‘free': '17.8571'},\n",
       " 'Article 08': {'Pakistan': '18.1818',\n",
       "  'Sharif': '27.2727',\n",
       "  'people': '22.7273',\n",
       "  'power': '22.7273',\n",
       "  'state': '22.7273'},\n",
       " 'Article 09': {'ecological': '12.9032',\n",
       "  'imperative': '12.9032',\n",
       "  'model': '16.129',\n",
       "  'resources': '16.129',\n",
       "  'world': '22.5806'},\n",
       " 'Article 10': {'even': '15.3846',\n",
       "  'minister': '15.3846',\n",
       "  'opinion’': '15.3846',\n",
       "  'prime': '15.3846',\n",
       "  'system': '19.2308'},\n",
       " 'Article 11': {'bourgeoisie': '41.3793',\n",
       "  'democratisation': '13.7931',\n",
       "  'society': '17.2414',\n",
       "  'state': '13.7931',\n",
       "  '‘educated’': '10.3448'},\n",
       " 'Article 12': {'It': '13.7931',\n",
       "  'caste': '20.6897',\n",
       "  'even': '10.3448',\n",
       "  'much': '10.3448',\n",
       "  'society': '13.7931'},\n",
       " 'Article 13': {'China': '20',\n",
       "  'In': '13.3333',\n",
       "  'India': '16.6667',\n",
       "  'Iran': '13.3333',\n",
       "  'US': '16.6667'},\n",
       " 'Article 14': {'Baloch': '20.6897',\n",
       "  'another': '13.7931',\n",
       "  'hate': '44.8276',\n",
       "  'politics': '24.1379',\n",
       "  'violence': '13.7931'},\n",
       " 'Article 15': {'In': '14.7059',\n",
       "  'India': '23.5294',\n",
       "  'Kumar': '14.7059',\n",
       "  'like': '14.7059',\n",
       "  'political': '14.7059'},\n",
       " 'Article 16': {'But': '11.1111',\n",
       "  'Mashal': '11.1111',\n",
       "  'ideas': '13.8889',\n",
       "  'lynching': '11.1111',\n",
       "  'students': '11.1111'},\n",
       " 'Article 17': {'Pakistani': '20',\n",
       "  'left': '24',\n",
       "  'new': '16',\n",
       "  'state': '28',\n",
       "  'years': '16'},\n",
       " 'Article 18': {'I': '15.1515',\n",
       "  'great': '27.2727',\n",
       "  'people': '12.1212',\n",
       "  '‘greatness’': '12.1212'},\n",
       " 'Article 19': {'Afghanistan': '26.6667',\n",
       "  'border': '26.6667',\n",
       "  'one': '16.6667',\n",
       "  'people': '20',\n",
       "  'state': '23.3333'},\n",
       " 'Article 20': {'one': '17.1429',\n",
       "  'political': '11.4286',\n",
       "  'state': '20',\n",
       "  'time': '14.2857',\n",
       "  'violence': '14.2857'}}"
      ]
     },
     "execution_count": 26,
     "metadata": {},
     "output_type": "execute_result"
    }
   ],
   "source": [
    "def updatekeys(d):\n",
    "    temp = dict(d)\n",
    "    temp = dict(Counter(temp).most_common(5))\n",
    "    return temp\n",
    "\n",
    "def get_top_words(dictionary):\n",
    "    for key, value in dictionary.items():\n",
    "        dictionary[key] = updatekeys(dictionary[key])\n",
    "        \n",
    "    return dictionary\n",
    "\n",
    "get_top_words(article)"
   ]
  },
  {
   "cell_type": "code",
   "execution_count": 27,
   "metadata": {
    "collapsed": true
   },
   "outputs": [],
   "source": [
    "article = collections.OrderedDict(sorted(article.items()))"
   ]
  },
  {
   "cell_type": "code",
   "execution_count": 113,
   "metadata": {
    "collapsed": true
   },
   "outputs": [],
   "source": [
    "def autofill(x_coordinates, y_coordinates, words_in_dates, magnitude_per_words, area):\n",
    "\n",
    "    x_coordinates = autofill_algorithm(x_coordinates, datatype='int')\n",
    "    y_coordinates = autofill_algorithm(y_coordinates, datatype='int',append='one')\n",
    "    words_in_dates = autofill_algorithm(words_in_dates, datatype='str')\n",
    "    magnitude_per_words = autofill_algorithm(magnitude_per_words, datatype='int')\n",
    "    area = autofill_algorithm(area, datatype='int')\n",
    "\n",
    "    return x_coordinates, y_coordinates, words_in_dates, magnitude_per_words, area\n",
    "\n",
    "\n",
    "def autofill_algorithm(lists, datatype=None, append=None):\n",
    "    output_words = 5\n",
    "    if datatype == 'int' and append == None:\n",
    "        for i, value in enumerate(lists):\n",
    "            if len(value) < output_words:\n",
    "                while len(value) != output_words:\n",
    "                    value.append(i + 1)\n",
    "                    pass\n",
    "\n",
    "        return lists\n",
    "    \n",
    "    if datatype == 'int' and append == 'one':\n",
    "        for i, value in enumerate(lists):\n",
    "            if len(value) < output_words:\n",
    "                while len(value) != output_words:\n",
    "                    value.append(1)\n",
    "                    pass\n",
    "\n",
    "        return lists\n",
    "\n",
    "\n",
    "    if datatype == 'str':\n",
    "        for i, value in enumerate(lists):\n",
    "            if len(value) < output_words:\n",
    "                while len(value) != output_words:\n",
    "                    value.append('')\n",
    "                    pass\n",
    "\n",
    "        return lists\n",
    "\n",
    "\n",
    "\n",
    "\n",
    "def get_coordinates(dictionary):\n",
    "\n",
    "    dates = []\n",
    "    words_in_dates = []\n",
    "    magnitude_per_words = []\n",
    "    temp_w = []\n",
    "    temp_m = []\n",
    "    temp_area = []\n",
    "    area = []\n",
    "    x_coordinates = []\n",
    "    y_coordinates = []\n",
    "    temp_x = []\n",
    "    temp_y = []\n",
    "\n",
    "    for day, value in dictionary.items():\n",
    "        dates.append(day)\n",
    "        for words, magnitude in value.items():\n",
    "            temp_w.append(words)\n",
    "            temp_m.append(float(magnitude))\n",
    "            for x in magnitude.split():\n",
    "                temp_area.append(round(2 * math.pi * float(x))*4)\n",
    "                #temp_area.append(float(x))\n",
    "\n",
    "        area.append(temp_area)\n",
    "        words_in_dates.append(temp_w)\n",
    "        magnitude_per_words.append(temp_m)\n",
    "        temp_w = []\n",
    "        temp_m = []\n",
    "        temp_area = []\n",
    "\n",
    "\n",
    "    for i in range(len(magnitude_per_words)):\n",
    "        for j in range(len(magnitude_per_words[i])):\n",
    "            temp_x.append(i + 1)\n",
    "            temp_y.append(j + 1)\n",
    "        x_coordinates.append(temp_x)\n",
    "        y_coordinates.append(temp_y)\n",
    "        temp_x = []\n",
    "        temp_y = []\n",
    "\n",
    "\n",
    "    #autofill(x_coordinates, y_coordinates, words_in_dates, magnitude_per_words, area)\n",
    "\n",
    "\n",
    "    return dates ,x_coordinates, y_coordinates, words_in_dates, magnitude_per_words, area\n"
   ]
  },
  {
   "cell_type": "code",
   "execution_count": 114,
   "metadata": {},
   "outputs": [
    {
     "ename": "AttributeError",
     "evalue": "'str' object has no attribute 'items'",
     "output_type": "error",
     "traceback": [
      "\u001b[0;31m---------------------------------------------------------------------------\u001b[0m",
      "\u001b[0;31mAttributeError\u001b[0m                            Traceback (most recent call last)",
      "\u001b[0;32m<ipython-input-114-cd2855ffb08b>\u001b[0m in \u001b[0;36m<module>\u001b[0;34m()\u001b[0m\n\u001b[0;32m----> 1\u001b[0;31m \u001b[0mdates\u001b[0m \u001b[0;34m,\u001b[0m\u001b[0mx_coordinates\u001b[0m\u001b[0;34m,\u001b[0m \u001b[0my_coordinates\u001b[0m\u001b[0;34m,\u001b[0m \u001b[0mwords_in_dates\u001b[0m\u001b[0;34m,\u001b[0m \u001b[0mmagnitude_per_words\u001b[0m\u001b[0;34m,\u001b[0m \u001b[0marea\u001b[0m \u001b[0;34m=\u001b[0m \u001b[0mget_coordinates\u001b[0m\u001b[0;34m(\u001b[0m\u001b[0marticle\u001b[0m\u001b[0;34m)\u001b[0m\u001b[0;34m\u001b[0m\u001b[0m\n\u001b[0m",
      "\u001b[0;32m<ipython-input-113-30c0033b4671>\u001b[0m in \u001b[0;36mget_coordinates\u001b[0;34m(dictionary)\u001b[0m\n\u001b[1;32m     59\u001b[0m     \u001b[0;32mfor\u001b[0m \u001b[0mday\u001b[0m\u001b[0;34m,\u001b[0m \u001b[0mvalue\u001b[0m \u001b[0;32min\u001b[0m \u001b[0mdictionary\u001b[0m\u001b[0;34m.\u001b[0m\u001b[0mitems\u001b[0m\u001b[0;34m(\u001b[0m\u001b[0;34m)\u001b[0m\u001b[0;34m:\u001b[0m\u001b[0;34m\u001b[0m\u001b[0m\n\u001b[1;32m     60\u001b[0m         \u001b[0mdates\u001b[0m\u001b[0;34m.\u001b[0m\u001b[0mappend\u001b[0m\u001b[0;34m(\u001b[0m\u001b[0mday\u001b[0m\u001b[0;34m)\u001b[0m\u001b[0;34m\u001b[0m\u001b[0m\n\u001b[0;32m---> 61\u001b[0;31m         \u001b[0;32mfor\u001b[0m \u001b[0mwords\u001b[0m\u001b[0;34m,\u001b[0m \u001b[0mmagnitude\u001b[0m \u001b[0;32min\u001b[0m \u001b[0mvalue\u001b[0m\u001b[0;34m.\u001b[0m\u001b[0mitems\u001b[0m\u001b[0;34m(\u001b[0m\u001b[0;34m)\u001b[0m\u001b[0;34m:\u001b[0m\u001b[0;34m\u001b[0m\u001b[0m\n\u001b[0m\u001b[1;32m     62\u001b[0m             \u001b[0mtemp_w\u001b[0m\u001b[0;34m.\u001b[0m\u001b[0mappend\u001b[0m\u001b[0;34m(\u001b[0m\u001b[0mwords\u001b[0m\u001b[0;34m)\u001b[0m\u001b[0;34m\u001b[0m\u001b[0m\n\u001b[1;32m     63\u001b[0m             \u001b[0mtemp_m\u001b[0m\u001b[0;34m.\u001b[0m\u001b[0mappend\u001b[0m\u001b[0;34m(\u001b[0m\u001b[0mfloat\u001b[0m\u001b[0;34m(\u001b[0m\u001b[0mmagnitude\u001b[0m\u001b[0;34m)\u001b[0m\u001b[0;34m)\u001b[0m\u001b[0;34m\u001b[0m\u001b[0m\n",
      "\u001b[0;31mAttributeError\u001b[0m: 'str' object has no attribute 'items'"
     ]
    }
   ],
   "source": [
    "dates ,x_coordinates, y_coordinates, words_in_dates, magnitude_per_words, area = get_coordinates(article)"
   ]
  },
  {
   "cell_type": "code",
   "execution_count": 115,
   "metadata": {},
   "outputs": [
    {
     "data": {
      "text/plain": [
       "[[13.7931, 1, 1, 1, 1],\n",
       " [2, 2, 2, 2, 2],\n",
       " [3, 3, 3, 3, 3],\n",
       " [4, 4, 4, 4, 4],\n",
       " [5, 5, 5, 5, 5],\n",
       " [6, 6, 6, 6, 6],\n",
       " [11.7647, 7, 7, 7, 7],\n",
       " [8, 8, 8, 8, 8],\n",
       " [9, 9, 9, 9, 9],\n",
       " [10.3448, 10, 10, 10, 10],\n",
       " [11, 11, 11, 11, 11],\n",
       " [12, 12, 12, 12, 12],\n",
       " [13, 13, 13, 13, 13],\n",
       " [14, 14, 14, 14, 14],\n",
       " [15, 15, 15, 15, 15],\n",
       " [16, 16, 16, 16, 16],\n",
       " [17.2414, 17, 17, 17, 17],\n",
       " [18, 18, 18, 18, 18],\n",
       " [60.7143, 19, 19, 19, 19],\n",
       " [20, 20, 20, 20, 20]]"
      ]
     },
     "execution_count": 115,
     "metadata": {},
     "output_type": "execute_result"
    }
   ],
   "source": [
    "magnitude_per_words "
   ]
  },
  {
   "cell_type": "code",
   "execution_count": 116,
   "metadata": {
    "collapsed": true
   },
   "outputs": [],
   "source": [
    "def basic_plot(dates, x_coordinates, y_coordinates, words_in_dates,magnitude_per_words, area, individual=None):\n",
    "\n",
    "    for i in range(len(dates)):\n",
    "        for j in range(len(magnitude_per_words)):\n",
    "            for k in range(len(magnitude_per_words[j])):\n",
    "                plt.text(x=x_coordinates[j][k], y=y_coordinates[j][k], s=words_in_dates[j][k].replace(' ', '\\n'),\n",
    "                         fontsize=8, horizontalalignment='center', verticalalignment='center', rotation='vertical')\n",
    "    \n",
    "    if individual == None:\n",
    "        plt.title(\"TOP JOURNALIST'S TRENDS FOR LAST 6 MONTHS\")\n",
    "        plt.ylabel('Number Of Trends')\n",
    "        # xticks( arange(5), ('Tom', 'Dick', 'Harry', 'Sally', 'Sue') )\n",
    "        plt.yticks(list(range(1, len(y_coordinates[0]) + 1)))\n",
    "        plt.xticks(list(range(1, len(dates) + 1)), dates , rotation='vertical')\n",
    "        plt.scatter(x=x_coordinates, y=y_coordinates, s=area, linewidths=2, edgecolor='w')\n",
    "        plt.show()\n",
    "        #grand_out_png = grand_out.strip('.out')+str('.png')\n",
    "        #plt.savefig('img.png', format='png', dpi=1000,bbox_inches='tight')\n",
    "        plt.clf()\n",
    "    \n",
    "    \n",
    "    if individual != None:\n",
    "        plt.title('Top Trends For '+individual+' Last 6 Months')\n",
    "        plt.ylabel('Number Of Trends')\n",
    "        # xticks( arange(5), ('Tom', 'Dick', 'Harry', 'Sally', 'Sue') )\n",
    "        plt.yticks(list(range(1, len(y_coordinates[0]) + 1)))\n",
    "        plt.xticks(list(range(1, len(dates) + 1)), dates , rotation='vertical')\n",
    "        plt.scatter(x=x_coordinates, y=y_coordinates, s=area, linewidths=2, edgecolor='w')\n",
    "        plt.show()\n",
    "        \n",
    "        #plt.savefig(individual+'.png', format='png', dpi=1000,bbox_inches='tight')\n",
    "        plt.clf()\n",
    "        \n",
    "\n",
    "        \n"
   ]
  },
  {
   "cell_type": "code",
   "execution_count": 117,
   "metadata": {
    "scrolled": true
   },
   "outputs": [
    {
     "data": {
      "image/png": "[encoded data removed]",
      "text/plain": [
       "<matplotlib.figure.Figure at 0x7fddf026e0b8>"
      ]
     },
     "metadata": {},
     "output_type": "display_data"
    }
   ],
   "source": [
    "basic_plot(dates, x_coordinates, y_coordinates, words_in_dates,magnitude_per_words, area, individual='Jornalist')"
   ]
  },
  {
   "cell_type": "code",
   "execution_count": 118,
   "metadata": {
    "collapsed": true
   },
   "outputs": [],
   "source": [
    "global find_me1\n",
    "global find_me2\n",
    "global find_me3\n",
    "global find_me4\n",
    "global condition\n",
    "\n",
    "find_me1 = 'Society'.strip().lower()  # ['PSP', 'MQM']\n",
    "find_me2 = ''.strip().lower()\n",
    "find_me3 = ''.strip().lower()\n",
    "find_me4 = ''.strip().lower()\n",
    "\n",
    "condition = find_me1 + ' ' + find_me2 + ' ' + find_me3 + ' ' + find_me4\n",
    "condition = condition.strip()"
   ]
  },
  {
   "cell_type": "code",
   "execution_count": 119,
   "metadata": {},
   "outputs": [],
   "source": [
    "test ={'Article 12': {'even': 10.3448, 'much': 10.3448, 'easier': 10.3448, 'We': 10.3448, 'next': 10.3448, 'It': 13.7931, 'question': 10.3448, 'government': 10.3448, 'Nawaz': 10.3448, 'society': 13.7931, 'caste': 20.6897, 'The': 20.6897}, 'Article 01': {'little': 12.5, 'It': 15.625, 'youth': 18.75, 'young': 21.875, 'people': 25.0}, 'Article 16': {'lynching': 11.1111, 'But': 11.1111, 'ideas': 13.8889, 'Mashal': 11.1111, 'students': 11.1111, 'generation’': 11.1111, 'young': 11.1111, 'The': 19.4444}, 'Article 03': {'much': 10.8108, 'Fata': 10.8108, 'system': 10.8108, 'even': 13.5135, 'power': 16.2162}, 'Article 13': {'But': 10.0, 'Pakistan': 10.0, 'major': 10.0, 'relations': 10.0, 'Game': 10.0, 'Great': 10.0, 'Afghanistan': 10.0, 'Union': 10.0, 'Iran': 13.3333, 'us': 10.0, 'change': 10.0, 'make': 10.0, 'India': 16.6667, 'also': 10.0, 'decades': 10.0, 'US': 16.6667, 'countries': 10.0, 'In': 13.3333, 'global': 13.3333, 'political': 13.3333, 'China': 20.0, 'The': 16.6667}, 'Article 10': {'But': 11.5385, 'list': 11.5385, 'office': 11.5385, '‘public': 11.5385, 'politicians': 11.5385, 'I': 11.5385, 'lives': 11.5385, 'never': 11.5385, 'rule': 11.5385, 'opinion’': 15.3846, 'ago': 11.5385, 'emperor’s': 11.5385, 'even': 15.3846, 'minister': 15.3846, 'prime': 15.3846, 'back': 11.5385, 'go': 11.5385, 'system': 19.2308}, 'Article 15': {'Indian': 11.7647, 'society': 11.7647, 'India’s': 11.7647, 'fact': 11.7647, 'country': 11.7647, 'Kumar': 14.7059, 'like': 14.7059, 'In': 14.7059, 'political': 14.7059, 'people': 11.7647, 'Sangh': 14.7059, 'India': 23.5294}, 'Article 05': {'Pakistan': 11.1111, 'state': 11.1111, 'rentier': 11.1111, 'recent': 11.1111, 'I': 11.1111, 'countries': 11.1111, 'support': 11.1111, 'rulers': 11.1111, 'Pakistan’s': 11.1111, 'game': 11.1111, 'PPP': 11.1111, 'world': 11.1111, 'would': 11.1111, 'establishment': 11.1111, 'In': 11.1111, 'people': 14.8148, 'many': 14.8148, 'making': 11.1111, 'power': 14.8148, 'one': 14.8148}, 'Article 08': {'elected': 13.6364, 'prime': 13.6364, 'minister': 13.6364, 'Pakistan': 18.1818, 'land': 18.1818, 'ever': 13.6364, 'rights': 13.6364, 'Nawaz': 18.1818, 'like': 13.6364, 'people': 22.7273, 'state': 22.7273, 'power': 22.7273, 'Sharif': 27.2727}, 'Article 14': {'The': 10.3448, 'alienation': 10.3448, 'Gwadar': 10.3448, 'society': 10.3448, 'long': 10.3448, 'Yet': 10.3448, 'power': 10.3448, 'Pakistani': 10.3448, 'political': 10.3448, 'In': 10.3448, 'one': 10.3448, 'another': 13.7931, 'violence': 13.7931, 'This': 13.7931, 'past': 13.7931, 'Baloch': 20.6897, 'politics': 24.1379, 'hate': 44.8276}, 'Article 18': {'I': 15.1515, '‘greatness’': 12.1212, 'people': 12.1212, 'great': 27.2727, 'The': 18.1818}, 'Article 06': {'much': 11.1111, 'solidarity': 11.1111, 'Pakistanis': 11.1111, 'Muslims': 11.1111, 'But': 11.1111, 'stand': 11.1111, 'silent': 11.1111, 'Sri': 11.1111, 'within': 11.1111, 'silence': 11.1111, 'military': 11.1111, 'Pakistani': 11.1111, 'Myanmar': 11.1111, 'separatist': 11.1111, 'movement': 11.1111, 'world': 14.8148, 'Xinjiang': 11.1111, 'Uighur': 11.1111, 'Rohingyas': 14.8148, 'communities': 18.5185, 'ethnic': 14.8148, 'The': 14.8148, 'state': 25.9259}, 'Article 04': {'violence': 16.129, 'reactionary': 12.9032, 'US': 16.129, 'America': 16.129, 'political': 12.9032, 'American': 12.9032, 'world': 19.3548, 'era': 19.3548, 'Trump': 19.3548}, 'Article 09': {'imperative': 12.9032, 'ecological': 12.9032, 'But': 12.9032, 'Western': 12.9032, 'world': 22.5806, 'model': 16.129, 'resources': 16.129}, 'Article 02': {'It': 11.4286, 'The': 11.4286, 'time': 11.4286, 'years': 11.4286, 'TV': 11.4286, 'Musharraf’s': 14.2857, 'little': 11.4286, 'political': 17.1429, 'Musharraf': 40.0}, 'Article 20': {'violence': 14.2857, 'time': 14.2857, 'political': 11.4286, 'The': 17.1429, 'communism': 11.4286, 'one': 17.1429, 'would': 11.4286, 'state': 20.0}, 'Article 11': {'These': 10.3448, '‘educated’': 10.3448, 'story': 10.3448, 'even': 10.3448, 'history': 10.3448, 'societies': 10.3448, 'democracy': 10.3448, 'segments': 10.3448, 'privilege': 10.3448, 'Western': 10.3448, 'committed': 10.3448, 'process': 10.3448, 'people’': 10.3448, '‘the': 10.3448, 'class': 10.3448, 'far': 10.3448, 'The': 20.6897, 'democratisation': 13.7931, 'society': 17.2414, 'state': 13.7931, 'bourgeoisie': 41.3793}, 'Article 17': {'like': 12.0, 'fact': 12.0, 'brain': 12.0, 'stop': 12.0, 'country': 12.0, 'Mussolini': 12.0, 'Gramsci': 12.0, 'years': 16.0, 'new': 16.0, 'The': 20.0, 'working': 16.0, 'Pakistani': 20.0, 'ideas': 16.0, 'state': 28.0, 'left': 24.0}, 'Article 07': {'civil': 10.7143, 'society': 14.2857, 'realm': 10.7143, 'lawyers': 10.7143, 'economic': 10.7143, 'legal': 10.7143, 'movement': 14.2857, 'Marx': 10.7143, '‘free': 17.8571, 'market’': 17.8571, 'fraternity': 14.2857, 'political': 17.8571, 'state': 21.4286, 'society’': 60.7143, '‘civil': 60.7143}, 'Article 19': {'states': 10.0, 'We': 10.0, 'would': 10.0, 'map': 10.0, 'It': 13.3333, 'I': 10.0, 'The': 13.3333, 'Durand': 13.3333, 'Line': 13.3333, 'British': 13.3333, 'one': 16.6667, 'much': 10.0, 'Pakistani': 16.6667, 'In': 13.3333, 'state': 23.3333, 'Pakistan': 13.3333, 'people': 20.0, 'border': 26.6667, 'Afghanistan': 26.6667}}\n",
    "test2=  {'even': 10.3448, 'much': 10.3448, 'easier': 10.3448, 'We': 10.3448, 'next': 10.3448, 'It': 13.7931, 'question': 10.3448, 'government': 10.3448, 'Nawaz': 10.3448, 'caste': 20.6897, 'The': 20.6897}"
   ]
  },
  {
   "cell_type": "code",
   "execution_count": 120,
   "metadata": {},
   "outputs": [
    {
     "name": "stdout",
     "output_type": "stream",
     "text": [
      "{'even': 10.3448, 'much': 10.3448, 'easier': 10.3448, 'We': 10.3448, 'next': 10.3448, 'It': 13.7931, 'question': 10.3448, 'government': 10.3448, 'Nawaz': 10.3448, 'caste': 20.6897, 'The': 20.6897}\n"
     ]
    }
   ],
   "source": [
    "print(test2)"
   ]
  },
  {
   "cell_type": "code",
   "execution_count": 121,
   "metadata": {},
   "outputs": [
    {
     "name": "stdout",
     "output_type": "stream",
     "text": [
      "{}\n"
     ]
    }
   ],
   "source": [
    "def conditon_verifier(condition, word):\n",
    "    verified = 0\n",
    "    for x in condition.split():\n",
    "        if x in word:\n",
    "            verified +=1\n",
    "    if verified == len(word.split()):\n",
    "        return True\n",
    "    if verified != len(word.split()):\n",
    "        return False\n",
    "\n",
    "\n",
    "def find_words(dictionary, regular=True):\n",
    "\n",
    "    temp = {}\n",
    "    if regular == True:\n",
    "        for key, value in dictionary.items():\n",
    "            #for words, values in value.items():\n",
    "            # print(words)\n",
    "            if conditon_verifier(condition,key.lower()) == True:\n",
    "                # print(words, values)\n",
    "                temp[key] = value\n",
    "        return temp\n",
    "\n",
    "    if regular == False:\n",
    "        for key, value in dictionary.items():\n",
    "            for words, values in value.items():\n",
    "                if find_me1 in words.lower():\n",
    "                    if verify_word(find_me1,words.lower()) == True:\n",
    "                        if find_me1 not in temp.items():\n",
    "                            temp[words] = values\n",
    "                        # print(words)\n",
    "                if find_me2 in words.lower():\n",
    "                    if verify_word(find_me2,words.lower()) == True:\n",
    "                        if find_me2 not in temp.items():\n",
    "                            temp[words] = values\n",
    "                            # print(words)\n",
    "                if find_me3 in words.lower():\n",
    "                    if verify_word(find_me3, words.lower()) == True:\n",
    "                        if find_me3 not in temp.items():\n",
    "                            temp[words] = values\n",
    "\n",
    "                if find_me4 in words.lower():\n",
    "                    if verify_word(find_me4, words.lower()) == True:\n",
    "                        if find_me4 not in temp.items():\n",
    "                            temp[words] = values\n",
    "\n",
    "        return temp\n",
    "\n",
    "\n",
    "def find_words_handler(dictionary):\n",
    "    found_you = {}\n",
    "    direct = True\n",
    "    found_you = find_words(dictionary, regular=True)\n",
    "    # if found_you == {}:\n",
    "    #     found_you = find_words(dictionary, regular=False)\n",
    "    #     direct = False\n",
    "\n",
    "    found_you = dict(Counter(found_you).most_common(1))\n",
    "\n",
    "    return found_you\n",
    "\n",
    "test2=find_words_handler(test2)\n",
    "print(test2)"
   ]
  },
  {
   "cell_type": "code",
   "execution_count": 122,
   "metadata": {},
   "outputs": [
    {
     "ename": "AttributeError",
     "evalue": "'float' object has no attribute 'split'",
     "output_type": "error",
     "traceback": [
      "\u001b[0;31m---------------------------------------------------------------------------\u001b[0m",
      "\u001b[0;31mAttributeError\u001b[0m                            Traceback (most recent call last)",
      "\u001b[0;32m<ipython-input-122-e42c07283dd5>\u001b[0m in \u001b[0;36m<module>\u001b[0;34m()\u001b[0m\n\u001b[0;32m----> 1\u001b[0;31m \u001b[0mdates\u001b[0m \u001b[0;34m,\u001b[0m\u001b[0mx_coordinates\u001b[0m\u001b[0;34m,\u001b[0m \u001b[0my_coordinates\u001b[0m\u001b[0;34m,\u001b[0m \u001b[0mwords_in_dates\u001b[0m\u001b[0;34m,\u001b[0m \u001b[0mmagnitude_per_words\u001b[0m\u001b[0;34m,\u001b[0m \u001b[0marea\u001b[0m \u001b[0;34m=\u001b[0m \u001b[0mget_coordinates\u001b[0m\u001b[0;34m(\u001b[0m\u001b[0mtest\u001b[0m\u001b[0;34m)\u001b[0m\u001b[0;34m\u001b[0m\u001b[0m\n\u001b[0m",
      "\u001b[0;32m<ipython-input-113-30c0033b4671>\u001b[0m in \u001b[0;36mget_coordinates\u001b[0;34m(dictionary)\u001b[0m\n\u001b[1;32m     62\u001b[0m             \u001b[0mtemp_w\u001b[0m\u001b[0;34m.\u001b[0m\u001b[0mappend\u001b[0m\u001b[0;34m(\u001b[0m\u001b[0mwords\u001b[0m\u001b[0;34m)\u001b[0m\u001b[0;34m\u001b[0m\u001b[0m\n\u001b[1;32m     63\u001b[0m             \u001b[0mtemp_m\u001b[0m\u001b[0;34m.\u001b[0m\u001b[0mappend\u001b[0m\u001b[0;34m(\u001b[0m\u001b[0mfloat\u001b[0m\u001b[0;34m(\u001b[0m\u001b[0mmagnitude\u001b[0m\u001b[0;34m)\u001b[0m\u001b[0;34m)\u001b[0m\u001b[0;34m\u001b[0m\u001b[0m\n\u001b[0;32m---> 64\u001b[0;31m             \u001b[0;32mfor\u001b[0m \u001b[0mx\u001b[0m \u001b[0;32min\u001b[0m \u001b[0mmagnitude\u001b[0m\u001b[0;34m.\u001b[0m\u001b[0msplit\u001b[0m\u001b[0;34m(\u001b[0m\u001b[0;34m)\u001b[0m\u001b[0;34m:\u001b[0m\u001b[0;34m\u001b[0m\u001b[0m\n\u001b[0m\u001b[1;32m     65\u001b[0m                 \u001b[0mtemp_area\u001b[0m\u001b[0;34m.\u001b[0m\u001b[0mappend\u001b[0m\u001b[0;34m(\u001b[0m\u001b[0mround\u001b[0m\u001b[0;34m(\u001b[0m\u001b[0;36m2\u001b[0m \u001b[0;34m*\u001b[0m \u001b[0mmath\u001b[0m\u001b[0;34m.\u001b[0m\u001b[0mpi\u001b[0m \u001b[0;34m*\u001b[0m \u001b[0mfloat\u001b[0m\u001b[0;34m(\u001b[0m\u001b[0mx\u001b[0m\u001b[0;34m)\u001b[0m\u001b[0;34m)\u001b[0m\u001b[0;34m*\u001b[0m\u001b[0;36m4\u001b[0m\u001b[0;34m)\u001b[0m\u001b[0;34m\u001b[0m\u001b[0m\n\u001b[1;32m     66\u001b[0m                 \u001b[0;31m#temp_area.append(float(x))\u001b[0m\u001b[0;34m\u001b[0m\u001b[0;34m\u001b[0m\u001b[0m\n",
      "\u001b[0;31mAttributeError\u001b[0m: 'float' object has no attribute 'split'"
     ]
    }
   ],
   "source": [
    "dates ,x_coordinates, y_coordinates, words_in_dates, magnitude_per_words, area = get_coordinates(test)"
   ]
  },
  {
   "cell_type": "code",
   "execution_count": 123,
   "metadata": {},
   "outputs": [],
   "source": [
    "def line_chart(dates,x_coordinates,words_in_dates,magnitude_per_words, convert=None):\n",
    "\n",
    "    mylabel = ''\n",
    "    for x in words_in_dates:\n",
    "        if x != []:\n",
    "            mylabel = str(x).strip('[]')\n",
    "            break\n",
    "\n",
    "    if mylabel == '':\n",
    "        return\n",
    "\n",
    "    if convert == True:\n",
    "        temp_m = []\n",
    "        temp_x = []\n",
    "        i = 1\n",
    "        for x in magnitude_per_words:\n",
    "            print(x)\n",
    "            \n",
    "            temp_m.append(float(str(x).strip('[]') + str(0)))\n",
    "            temp_x.append(i)\n",
    "            i += 1\n",
    "        magnitude_per_words = temp_m\n",
    "        x_coordinates = temp_x\n",
    "\n",
    "\n",
    "    if mylabel != '':\n",
    "        plt.plot(x_coordinates, magnitude_per_words, label=mylabel, linestyle='-')\n",
    "        plt.legend(bbox_to_anchor=(1.4, 1.03))\n",
    "        plt.xticks(x_coordinates, dates, rotation='vertical')\n",
    "        plt.ylabel('Magnitude')\n",
    "        plt.title(\"WORDS TRENDS\")\n",
    "        plt.grid()\n",
    "        #plt.axis([0, int(x_coordinates[-1]), 0, max(magnitude_per_words)])\n",
    "            \n",
    "        plt.show()\n",
    "        #grand_out_png = grand_out.strip('.out') + str('.png')\n",
    "        #plt.savefig(grand_out_png, format='png',bbox_inches='tight', dpi=1000)\n",
    "        plt.clf()\n",
    "\n",
    "\n"
   ]
  },
  {
   "cell_type": "code",
   "execution_count": 124,
   "metadata": {},
   "outputs": [
    {
     "name": "stdout",
     "output_type": "stream",
     "text": [
      "[13.7931, 1, 1, 1, 1]\n"
     ]
    },
    {
     "ename": "ValueError",
     "evalue": "could not convert string to float: '13.7931, 1, 1, 1, 10'",
     "output_type": "error",
     "traceback": [
      "\u001b[0;31m---------------------------------------------------------------------------\u001b[0m",
      "\u001b[0;31mValueError\u001b[0m                                Traceback (most recent call last)",
      "\u001b[0;32m<ipython-input-124-aad48f0ffdd5>\u001b[0m in \u001b[0;36m<module>\u001b[0;34m()\u001b[0m\n\u001b[0;32m----> 1\u001b[0;31m \u001b[0mline_chart\u001b[0m\u001b[0;34m(\u001b[0m\u001b[0mdates\u001b[0m\u001b[0;34m,\u001b[0m\u001b[0mx_coordinates\u001b[0m\u001b[0;34m,\u001b[0m\u001b[0mwords_in_dates\u001b[0m\u001b[0;34m,\u001b[0m\u001b[0mmagnitude_per_words\u001b[0m\u001b[0;34m,\u001b[0m \u001b[0mconvert\u001b[0m\u001b[0;34m=\u001b[0m\u001b[0;32mTrue\u001b[0m\u001b[0;34m)\u001b[0m\u001b[0;34m\u001b[0m\u001b[0m\n\u001b[0m",
      "\u001b[0;32m<ipython-input-123-0315e6d651a7>\u001b[0m in \u001b[0;36mline_chart\u001b[0;34m(dates, x_coordinates, words_in_dates, magnitude_per_words, convert)\u001b[0m\n\u001b[1;32m     17\u001b[0m             \u001b[0mprint\u001b[0m\u001b[0;34m(\u001b[0m\u001b[0mx\u001b[0m\u001b[0;34m)\u001b[0m\u001b[0;34m\u001b[0m\u001b[0m\n\u001b[1;32m     18\u001b[0m \u001b[0;34m\u001b[0m\u001b[0m\n\u001b[0;32m---> 19\u001b[0;31m             \u001b[0mtemp_m\u001b[0m\u001b[0;34m.\u001b[0m\u001b[0mappend\u001b[0m\u001b[0;34m(\u001b[0m\u001b[0mfloat\u001b[0m\u001b[0;34m(\u001b[0m\u001b[0mstr\u001b[0m\u001b[0;34m(\u001b[0m\u001b[0mx\u001b[0m\u001b[0;34m)\u001b[0m\u001b[0;34m.\u001b[0m\u001b[0mstrip\u001b[0m\u001b[0;34m(\u001b[0m\u001b[0;34m'[]'\u001b[0m\u001b[0;34m)\u001b[0m \u001b[0;34m+\u001b[0m \u001b[0mstr\u001b[0m\u001b[0;34m(\u001b[0m\u001b[0;36m0\u001b[0m\u001b[0;34m)\u001b[0m\u001b[0;34m)\u001b[0m\u001b[0;34m)\u001b[0m\u001b[0;34m\u001b[0m\u001b[0m\n\u001b[0m\u001b[1;32m     20\u001b[0m             \u001b[0mtemp_x\u001b[0m\u001b[0;34m.\u001b[0m\u001b[0mappend\u001b[0m\u001b[0;34m(\u001b[0m\u001b[0mi\u001b[0m\u001b[0;34m)\u001b[0m\u001b[0;34m\u001b[0m\u001b[0m\n\u001b[1;32m     21\u001b[0m             \u001b[0mi\u001b[0m \u001b[0;34m+=\u001b[0m \u001b[0;36m1\u001b[0m\u001b[0;34m\u001b[0m\u001b[0m\n",
      "\u001b[0;31mValueError\u001b[0m: could not convert string to float: '13.7931, 1, 1, 1, 10'"
     ]
    }
   ],
   "source": [
    "line_chart(dates,x_coordinates,words_in_dates,magnitude_per_words, convert=True)"
   ]
  },
  {
   "cell_type": "code",
   "execution_count": 125,
   "metadata": {
    "collapsed": true
   },
   "outputs": [],
   "source": [
    "qwe =['even (10.3448)', 'much (10.3448)', 'easier (10.3448)', 'We (10.3448)', 'next (10.3448)', 'It (13.7931)', 'question (10.3448)', 'government (10.3448)', 'Nawaz (10.3448)', 'society (13.7931)', 'caste (20.6897)', 'The (20.6897)', '']"
   ]
  },
  {
   "cell_type": "code",
   "execution_count": 126,
   "metadata": {},
   "outputs": [],
   "source": [
    "dictionary = {}\n",
    "#word = ''\n",
    "#magnitude = float()\n",
    "for x in qwe:\n",
    "    if x != '':\n",
    "        #print(x)\n",
    "        temp = x.split() \n",
    "        #print(temp[1])\n",
    "        dictionary[temp[0]] = float(temp[1].strip('()'))"
   ]
  },
  {
   "cell_type": "code",
   "execution_count": 140,
   "metadata": {
    "scrolled": true
   },
   "outputs": [],
   "source": [
    "qwe = {'Article 12': {'society': '13.7931'}, 'Article 01': {}, 'Article 16': {}, 'Article 03': {}, 'Article 13': {}, 'Article 10': {}, 'Article 15': {'society': '11.7647'}, 'Article 05': {}, 'Article 08': {}, 'Article 14': {'society': '10.3448'}, 'Article 18': {}, 'Article 06': {}, 'Article 04': {}, 'Article 09': {}, 'Article 02': {}, 'Article 20': {}, 'Article 11': {'society': '17.2414'}, 'Article 17': {}, 'Article 07': {'society’': '60.7143'}, 'Article 19': {}}\n",
    "qwe = collections.OrderedDict(sorted(qwe.items()))"
   ]
  },
  {
   "cell_type": "code",
   "execution_count": 141,
   "metadata": {},
   "outputs": [],
   "source": [
    "dates ,x_coordinates, y_coordinates, words_in_dates, magnitude_per_words, area = get_coordinates(qwe)"
   ]
  },
  {
   "cell_type": "code",
   "execution_count": 142,
   "metadata": {},
   "outputs": [
    {
     "data": {
      "text/plain": [
       "[[],\n",
       " [],\n",
       " [],\n",
       " [],\n",
       " [],\n",
       " [],\n",
       " [60.7143],\n",
       " [],\n",
       " [],\n",
       " [],\n",
       " [17.2414],\n",
       " [13.7931],\n",
       " [],\n",
       " [10.3448],\n",
       " [11.7647],\n",
       " [],\n",
       " [],\n",
       " [],\n",
       " [],\n",
       " []]"
      ]
     },
     "execution_count": 142,
     "metadata": {},
     "output_type": "execute_result"
    }
   ],
   "source": [
    "magnitude_per_words"
   ]
  },
  {
   "cell_type": "code",
   "execution_count": 143,
   "metadata": {
    "collapsed": true
   },
   "outputs": [],
   "source": [
    "def line_chart(dates,x_coordinates,words_in_dates,magnitude_per_words, convert=None):\n",
    "\n",
    "    mylabel = ''\n",
    "    for x in words_in_dates:\n",
    "        if x != []:\n",
    "            mylabel = str(x).strip('[]')\n",
    "            break\n",
    "\n",
    "    if mylabel == '':\n",
    "        return\n",
    "\n",
    "    if convert == True:\n",
    "        temp_m = []\n",
    "        temp_x = []\n",
    "        i = 1\n",
    "        for x in magnitude_per_words:\n",
    "            print(x)\n",
    "            temp_m.append(float(str(x).strip('[]') + str(0)))\n",
    "            temp_x.append(i)\n",
    "            i += 1\n",
    "        magnitude_per_words = temp_m\n",
    "        x_coordinates = temp_x\n",
    "\n",
    "\n",
    "    if mylabel != '':\n",
    "        plt.plot(x_coordinates, magnitude_per_words, label=mylabel, linestyle='-')\n",
    "        plt.legend(bbox_to_anchor=(1.4, 1.03))\n",
    "        plt.xticks(x_coordinates, dates, rotation='vertical')\n",
    "        plt.ylabel('Magnitude')\n",
    "        plt.title(\"WORDS TRENDS\")\n",
    "        plt.grid()\n",
    "        #plt.axis([0, int(x_coordinates[-1]), 0, max(magnitude_per_words)])\n",
    "        plt.show()\n",
    "        #grand_out_png = grand_out.strip('.out') + str('.png')\n",
    "        #plt.savefig(grand_out_png, format='png',bbox_inches='tight', dpi=1000)\n",
    "        plt.clf()\n"
   ]
  },
  {
   "cell_type": "code",
   "execution_count": 144,
   "metadata": {},
   "outputs": [
    {
     "name": "stdout",
     "output_type": "stream",
     "text": [
      "[]\n",
      "[]\n",
      "[]\n",
      "[]\n",
      "[]\n",
      "[]\n",
      "[60.7143]\n",
      "[]\n",
      "[]\n",
      "[]\n",
      "[17.2414]\n",
      "[13.7931]\n",
      "[]\n",
      "[10.3448]\n",
      "[11.7647]\n",
      "[]\n",
      "[]\n",
      "[]\n",
      "[]\n",
      "[]\n"
     ]
    },
    {
     "data": {
      "image/png": "[encoded data removed]",
      "text/plain": [
       "<matplotlib.figure.Figure at 0x7fddee42e6a0>"
      ]
     },
     "metadata": {},
     "output_type": "display_data"
    }
   ],
   "source": [
    "line_chart(dates,x_coordinates,words_in_dates,magnitude_per_words, convert=True)"
   ]
  },
  {
   "cell_type": "code",
   "execution_count": 148,
   "metadata": {},
   "outputs": [
    {
     "data": {
      "text/plain": [
       "<subprocess.Popen at 0x7fddee8fb278>"
      ]
     },
     "execution_count": 148,
     "metadata": {},
     "output_type": "execute_result"
    }
   ],
   "source": []
  },
  {
   "cell_type": "code",
   "execution_count": 145,
   "metadata": {},
   "outputs": [
    {
     "name": "stdout",
     "output_type": "stream",
     "text": [
      "/home/agha/Sir Naeem/next/project/Journalists\n"
     ]
    }
   ],
   "source": []
  }
 ],
 "metadata": {
  "kernelspec": {
   "display_name": "Python 3",
   "language": "python",
   "name": "python3"
  },
  "language_info": {
   "codemirror_mode": {
    "name": "ipython",
    "version": 3
   },
   "file_extension": ".py",
   "mimetype": "text/x-python",
   "name": "python",
   "nbconvert_exporter": "python",
   "pygments_lexer": "ipython3",
   "version": "3.6.2"
  }
 },
 "nbformat": 4,
 "nbformat_minor": 2
}
