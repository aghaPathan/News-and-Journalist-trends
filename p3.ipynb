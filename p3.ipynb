{
 "cells": [
  {
   "cell_type": "code",
   "execution_count": 5,
   "metadata": {
    "collapsed": true
   },
   "outputs": [],
   "source": [
    "from nltk.corpus import stopwords"
   ]
  },
  {
   "cell_type": "code",
   "execution_count": 29,
   "metadata": {
    "collapsed": true
   },
   "outputs": [],
   "source": [
    "def refine_raw_data(filename):\n",
    "    filename_out = filename.strip('.rawtext')+str('.txt')\n",
    "    data = open(filename, 'r')\n",
    "    data = data.read()\n",
    "    data = ' '.join(data.split())\n",
    "\n",
    "\n",
    "    stopWords = set(stopwords.words('english'))\n",
    "\n",
    "    filtered = ''\n",
    "    sentence = ''\n",
    "    for x in data:\n",
    "        if x != '.':\n",
    "            if x in [',', '“', '”','—','(', ')']:\n",
    "                pass\n",
    "            else:\n",
    "                sentence = sentence + x\n",
    "        if x == '.':\n",
    "            filtered = filtered + check(sentence,stopWords) + '\\n'\n",
    "            sentence = ''\n",
    "    print(filtered)\n",
    "    #data_out = open(filename_out, 'w+')\n",
    "    #data_out.write(filtered)\n",
    "    #data_out.close()\n",
    "    #print(filtered)\n",
    "\n"
   ]
  },
  {
   "cell_type": "code",
   "execution_count": 30,
   "metadata": {
    "collapsed": true
   },
   "outputs": [],
   "source": [
    "def check(sentence,stopWords):\n",
    "    temp = ''\n",
    "    for x in sentence.split():\n",
    "        if x in stopWords:\n",
    "            pass\n",
    "        if x not in stopWords:\n",
    "\n",
    "            temp = temp + str(x) + ' '\n",
    "\n",
    "    return temp\n"
   ]
  },
  {
   "cell_type": "code",
   "execution_count": 31,
   "metadata": {
    "scrolled": false
   },
   "outputs": [
    {
     "name": "stdout",
     "output_type": "stream",
     "text": [
      "The heads nearly parliamentary parties Tuesday agreed increase number seats National Assembly favour fresh delimitation constituencies take place next year’s general elections \n",
      "Apart issues highlighted Muttah­i­da Qaumi Movement MQM Pakistan Peo­ples Party PPP government agreed address passage fresh law decision table delimitation bill National Assembly session beginning Thursday made consensus \n",
      "Since number NA seats Sindh would remain MQM demanded fresh delimitation basis number voters constituency instead number people \n",
      "The meeting held threadbare discussion decided increase made existing 272 seats lower house fresh delimitation constituencies made basis 2017 census NA Speaker Sardar Ayaz Sadiq chaired Tuesday’s meeting later told press conference \n",
      "He also revealed committee decided increase decrease number provincial assembly seats \n",
      "The delimitation national provincial assembly constituencies mandatory fresh consensus government needs two-thirds majority pass constitutional amendment \n",
      "Punjab stands lose nine seats fresh delimitation; constitutional amendment tabled week The meeting also attended senior officials Election Commission Pakistan ECP National Database Registration Authority Nadra statistics division law ministry assured institutions next general elections would held time speaker said \n",
      "We called emergency meeting decide matter bill regarding delimitation constituencies tabled new NA session commencing Thursday said adding hopeful bill would sail houses parliament within two days \n",
      "In fact Election Commission already running short time demanded prompt decision fresh delimitation start process preparing next elections April 2017 added \n",
      "The meeting attended Leader Opposition National Assembly Syed Khursheed Shah Naveed Qamar PPP Law Minister Zahid Hamid Minister Parliamentary Affairs Aftab Sheikh Minister Housing Akram Durrani Shah Mehmood Qureshi Pakistan Tehreek-i-Insaf PTI Ghulam Ahmed Bilour Awami National Party ANP MQM’s Farooq Sattar Sahibzada Tariqullah Jamaat-i-Islami JI Mehmood Khan Achakzai Pakhtunkhwa Milli Awami Party PkMAP \n",
      "The NA speaker told reporters next meeting parliamentary leaders would held Thursday minute detail 2017 census would laid members \n",
      "The census record tehsil-level shared members satisfaction said \n",
      "During press conference PTI Vice Chairman Shah Mehmood Qureshi said decision increase number seats taken consensus \n",
      "He said entire effort made ensure next general elections held time \n",
      "PPP leader Naveed Qamar said party agreed fresh delimitations condition concerns would addressed \n",
      "Talking reporters later MQM leader Farooq Sattar said although party accepted committee’s decision demanded fresh delimitation made number voters population \n",
      "It unfair criteria forming constituency one province different criteria followed another province said \n",
      "He said party serious objections results fresh census accept \n",
      "Nadra told Senate 2013 total population Karachi exceeded 20 million 2017 census put 14 \n",
      "9 million added \n",
      "Although number seats National Assembly remain 272 fresh delimitation would affect Punjab dominated ruling Pakistan Muslim League-Nawaz PML-N province stands lose nine seats lower house \n",
      "Khyber Pakhtunkhwa get five new seats Balochistan get three Islamabad Capital Territory receive one additional seat \n",
      "The Federally Administered Tribal Areas Fata retain 12 seats assembly \n",
      "The PML-N currently majority share 148 seats lower house \n",
      "However 2017 census revealed population growth rate Punjab lowest among federating units \n",
      "\n"
     ]
    }
   ],
   "source": [
    "refine_raw_data('/home/agha/Sir Naeem/next/project/December/Dec 1/news.rawtext')"
   ]
  },
  {
   "cell_type": "code",
   "execution_count": 44,
   "metadata": {
    "collapsed": true
   },
   "outputs": [],
   "source": [
    "import matplotlib.pyplot as plt"
   ]
  },
  {
   "cell_type": "code",
   "execution_count": 45,
   "metadata": {},
   "outputs": [],
   "source": [
    "year_dict ={'November': {'Pak-Afghan Pakistan border': '37.5', 'terrorists Pakistan border': '37.5', 'Pak-Iran terrorists border': '33.3333', 'agreed Pakistan Iran': '33.3333', 'Gen IRGC Bajwa': '33.3333'}, 'December': {'message video political': '33.3333', 'Mohajir community political': '22.2222', 'however MQM political': '22.2222', 'message Musharraf video': '22.2222', 'message Musharraf political': '22.2222'}, 'October': {'New Zealand match': '33.3333', 'Australia hosts match': '33.3333', 'play match Pakistan': '33.3333', 'women New Zealand': '25', 'five wickets balls': '25'}, 'September': {'arrested statement suspects': '28.5714', 'At least killed': '25', 'five people wounded': '25', 'people said wounded': '25', 'suffered arm face': '25'}}\n"
   ]
  },
  {
   "cell_type": "code",
   "execution_count": 148,
   "metadata": {},
   "outputs": [
    {
     "name": "stdout",
     "output_type": "stream",
     "text": [
      "Pak-Afghan Pakistan border\n",
      "terrorists Pakistan border\n",
      "Pak-Iran terrorists border\n",
      "agreed Pakistan Iran\n",
      "Gen IRGC Bajwa\n",
      "message video political\n",
      "Mohajir community political\n",
      "however MQM political\n",
      "message Musharraf video\n",
      "message Musharraf political\n",
      "New Zealand match\n",
      "Australia hosts match\n",
      "play match Pakistan\n",
      "women New Zealand\n",
      "five wickets balls\n",
      "arrested statement suspects\n",
      "At least killed\n",
      "five people wounded\n",
      "people said wounded\n",
      "suffered arm face\n"
     ]
    }
   ],
   "source": [
    "def get_coordinates(dictionary):\n",
    "\n",
    "    dates = []\n",
    "    words_in_dates = []\n",
    "    magnitude_per_words = []\n",
    "    temp_w = []\n",
    "    temp_m = []\n",
    "    temp_area = []\n",
    "    area = []\n",
    "    x_coordinates = []\n",
    "    y_coordinates = []\n",
    "    temp_x = []\n",
    "    temp_y = []\n",
    "\n",
    "    for day, value in dictionary.items():\n",
    "        dates.append(day)\n",
    "        for words, magnitude in value.items():\n",
    "            temp_w.append(words)\n",
    "            print(words)\n",
    "            temp_m.append(float(magnitude))\n",
    "            for x in magnitude.split():\n",
    "                temp_area.append(round(2 * math.pi * float(x))*5)\n",
    "                #temp_area.append(float(x))\n",
    "\n",
    "        area.append(temp_area)\n",
    "        words_in_dates.append(temp_w)\n",
    "        magnitude_per_words.append(temp_m)\n",
    "        temp_w = []\n",
    "        temp_m = []\n",
    "        temp_area = []\n",
    "\n",
    "\n",
    "    for i in range(len(magnitude_per_words)):\n",
    "        for j in range(len(magnitude_per_words[i])):\n",
    "            temp_x.append(i + 1)\n",
    "            temp_y.append(j + 1)\n",
    "        x_coordinates.append(temp_x)\n",
    "        y_coordinates.append(temp_y)\n",
    "        temp_x = []\n",
    "        temp_y = []\n",
    "\n",
    "\n",
    "get_coordinates(year_dict)\n"
   ]
  },
  {
   "cell_type": "code",
   "execution_count": 149,
   "metadata": {},
   "outputs": [
    {
     "name": "stdout",
     "output_type": "stream",
     "text": [
      "Pak-Afghan Pakistan border\n",
      "terrorists Pakistan border\n",
      "Pak-Iran terrorists border\n",
      "agreed Pakistan Iran\n",
      "Gen IRGC Bajwa\n",
      "message video political\n",
      "Mohajir community political\n",
      "however MQM political\n",
      "message Musharraf video\n",
      "message Musharraf political\n",
      "New Zealand match\n",
      "Australia hosts match\n",
      "play match Pakistan\n",
      "women New Zealand\n",
      "five wickets balls\n",
      "arrested statement suspects\n",
      "At least killed\n",
      "five people wounded\n",
      "people said wounded\n",
      "suffered arm face\n"
     ]
    },
    {
     "ename": "TypeError",
     "evalue": "'NoneType' object is not iterable",
     "output_type": "error",
     "traceback": [
      "\u001b[0;31m---------------------------------------------------------------------------\u001b[0m",
      "\u001b[0;31mTypeError\u001b[0m                                 Traceback (most recent call last)",
      "\u001b[0;32m<ipython-input-149-47b0ae3a7518>\u001b[0m in \u001b[0;36m<module>\u001b[0;34m()\u001b[0m\n\u001b[0;32m----> 1\u001b[0;31m \u001b[0mdates\u001b[0m \u001b[0;34m,\u001b[0m\u001b[0mx_coordinates\u001b[0m\u001b[0;34m,\u001b[0m \u001b[0my_coordinates\u001b[0m\u001b[0;34m,\u001b[0m \u001b[0mwords_in_dates\u001b[0m\u001b[0;34m,\u001b[0m \u001b[0mmagnitude_per_words\u001b[0m\u001b[0;34m,\u001b[0m \u001b[0marea\u001b[0m \u001b[0;34m=\u001b[0m \u001b[0mget_coordinates\u001b[0m\u001b[0;34m(\u001b[0m\u001b[0myear_dict\u001b[0m\u001b[0;34m)\u001b[0m\u001b[0;34m\u001b[0m\u001b[0m\n\u001b[0m",
      "\u001b[0;31mTypeError\u001b[0m: 'NoneType' object is not iterable"
     ]
    }
   ],
   "source": [
    "dates ,x_coordinates, y_coordinates, words_in_dates, magnitude_per_words, area = get_coordinates(year_dict)"
   ]
  },
  {
   "cell_type": "code",
   "execution_count": 150,
   "metadata": {
    "scrolled": false
   },
   "outputs": [
    {
     "data": {
      "text/plain": [
       "[['Pak-Afghan Pakistan border',\n",
       "  'Pak-Afghan Pakistan border',\n",
       "  'Pak-Iran terrorists border',\n",
       "  'agreed Pakistan Iran',\n",
       "  'Gen IRGC Bajwa'],\n",
       " ['message video political',\n",
       "  'Mohajir community political',\n",
       "  'however MQM political',\n",
       "  'message Musharraf video',\n",
       "  'message Musharraf political'],\n",
       " ['New Zealand match',\n",
       "  'Australia hosts match',\n",
       "  'play match Pakistan',\n",
       "  'women New Zealand',\n",
       "  'five wickets balls'],\n",
       " ['arrested statement suspects',\n",
       "  'At least killed',\n",
       "  'five people wounded',\n",
       "  'people said wounded',\n",
       "  'suffered arm face']]"
      ]
     },
     "execution_count": 150,
     "metadata": {},
     "output_type": "execute_result"
    }
   ],
   "source": [
    "words_in_dates "
   ]
  },
  {
   "cell_type": "code",
   "execution_count": 146,
   "metadata": {},
   "outputs": [],
   "source": [
    "markers = [\".\",\",\",\"o\",\"v\",\"^\",\"<\",\">\",\"1\",\"2\",\"3\",\"4\",\"8\",\"s\",\"p\",\"P\",\"*\",\"h\",\"H\",\"+\",\n",
    "           \"x\",\"X\",\"D\",\"d\",\"|\",\"_\",'TICKLEFT','TICKRIGHT','TICKUP','TICKDOWN','CARETLEFT',\n",
    "           'CARETRIGHT','CARETUP','CARETDOWN','CARETLEFTBASE','CARETRIGHTBASE','CARETUPBASE']\n"
   ]
  },
  {
   "cell_type": "code",
   "execution_count": 43,
   "metadata": {
    "scrolled": true
   },
   "outputs": [
    {
     "data": {
      "text/plain": [
       "[['Pak-Afghan Pakistan border',\n",
       "  'terrorists Pakistan border',\n",
       "  'Pak-Iran terrorists border',\n",
       "  'agreed Pakistan Iran',\n",
       "  'Gen IRGC Bajwa'],\n",
       " ['message video political',\n",
       "  'Mohajir community political',\n",
       "  'however MQM political',\n",
       "  'message Musharraf video',\n",
       "  'message Musharraf political'],\n",
       " ['New Zealand match',\n",
       "  'Australia hosts match',\n",
       "  'play match Pakistan',\n",
       "  'women New Zealand',\n",
       "  'five wickets balls'],\n",
       " ['arrested statement suspects',\n",
       "  'At least killed',\n",
       "  'five people wounded',\n",
       "  'people said wounded',\n",
       "  'suffered arm face']]"
      ]
     },
     "execution_count": 43,
     "metadata": {},
     "output_type": "execute_result"
    }
   ],
   "source": [
    "def create_marker_array():\n",
    "    marker_array = []\n",
    "\n",
    "\n",
    "\n",
    "for i in range(len(dates)):\n",
    "    for j in range(len(magnitude_per_words)):\n",
    "        for k in range(len(magnitude_per_words[j])):\n",
    "            # print(magnitude_per_words[j][k])\n",
    "            plt.text(x=x_coordinates[j][k], y=y_coordinates[j][k], s=words_in_dates[j][k],\n",
    "                     fontsize=8, horizontalalignment='center')\n",
    "\n",
    "plt.title(\"WORDS USED IN TODAY'S NEWS\")\n",
    "\n",
    "#if month == False:\n",
    "#    plt.xlabel('Yearly Data')\n",
    "#else:\n",
    "#    plt.xlabel('Month Of ' + str(month_folder))\n",
    "#plt.ylabel('Number Of Trends')\n",
    "# xticks( arange(5), ('Tom', 'Dick', 'Harry', 'Sally', 'Sue') )\n",
    "# plt.yticks(list(range(1, 10+ 1)))\n",
    "#plt.xticks(list(range(1, len(dates) + 1)), dates)\n",
    "\n",
    "#plt.scatter(x_coordinates, y_coordinates, s=area, linewidths=2, edgecolor='w')\n",
    "#plt.show()\n",
    "\n",
    "\n",
    "#grand_out_png = grand_out.strip('.out')+str('.png')\n",
    "#plt.savefig(grand_out_png, format='png', dpi=1000)\n",
    "#plt.clf()"
   ]
  },
  {
   "cell_type": "code",
   "execution_count": 118,
   "metadata": {},
   "outputs": [],
   "source": [
    "qwe = ((('Agha',2),('Awais',3)),\n",
    "       (('Pathan',2),('Tareen',3)))"
   ]
  },
  {
   "cell_type": "code",
   "execution_count": 247,
   "metadata": {},
   "outputs": [
    {
     "name": "stdout",
     "output_type": "stream",
     "text": [
      "Pak-Afghan Pakistan border\n",
      "Pak-Afghan Pakistan border\n",
      "Pak-Iran terrorists border\n",
      "agreed Pakistan Iran\n",
      "Gen IRGC Bajwa\n",
      "message video political\n",
      "Mohajir community political\n",
      "however MQM political\n",
      "message Musharraf video\n",
      "message Musharraf political\n",
      "New Zealand match\n",
      "Australia hosts match\n",
      "play match Pakistan\n",
      "women New Zealand\n",
      "five wickets balls\n",
      "arrested statement suspects\n",
      "At least killed\n",
      "five people wounded\n",
      "people said wounded\n",
      "suffered arm face\n"
     ]
    }
   ],
   "source": [
    "marker_dict = {}\n",
    "k = 0\n",
    "for i in range(len(words_in_dates)):\n",
    "    #print(words_in_dates[i])\n",
    "    for j in range(len(words_in_dates[i])):\n",
    "        print(words_in_dates[i][j])\n",
    "        if words_in_dates[i][j] in marker_dict:\n",
    "            pass\n",
    "        if words_in_dates[i][j] not in marker_dict:\n",
    "            marker_dict[words_in_dates[i][j]] = markers[k]\n",
    "            k +=1\n",
    "    "
   ]
  },
  {
   "cell_type": "code",
   "execution_count": 248,
   "metadata": {
    "scrolled": false
   },
   "outputs": [
    {
     "data": {
      "text/plain": [
       "{'At least killed': '*',\n",
       " 'Australia hosts match': '4',\n",
       " 'Gen IRGC Bajwa': 'v',\n",
       " 'Mohajir community political': '<',\n",
       " 'New Zealand match': '3',\n",
       " 'Pak-Afghan Pakistan border': '.',\n",
       " 'Pak-Iran terrorists border': ',',\n",
       " 'agreed Pakistan Iran': 'o',\n",
       " 'arrested statement suspects': 'P',\n",
       " 'five people wounded': 'h',\n",
       " 'five wickets balls': 'p',\n",
       " 'however MQM political': '>',\n",
       " 'message Musharraf political': '2',\n",
       " 'message Musharraf video': '1',\n",
       " 'message video political': '^',\n",
       " 'people said wounded': 'H',\n",
       " 'play match Pakistan': '8',\n",
       " 'suffered arm face': '+',\n",
       " 'women New Zealand': 's'}"
      ]
     },
     "execution_count": 248,
     "metadata": {},
     "output_type": "execute_result"
    }
   ],
   "source": [
    "marker_dict"
   ]
  },
  {
   "cell_type": "code",
   "execution_count": 249,
   "metadata": {},
   "outputs": [
    {
     "name": "stdout",
     "output_type": "stream",
     "text": [
      ".\n",
      ".\n",
      ",\n",
      "o\n",
      "v\n",
      "^\n",
      "<\n",
      ">\n",
      "1\n",
      "2\n",
      "3\n",
      "4\n",
      "8\n",
      "s\n",
      "p\n",
      "P\n",
      "*\n",
      "h\n",
      "H\n",
      "+\n"
     ]
    }
   ],
   "source": [
    "markers_array = []\n",
    "temp = []\n",
    "\n",
    "for i in range(len(words_in_dates)):\n",
    "    #print(words_in_dates[i])\n",
    "    for j in range(len(words_in_dates[i])):\n",
    "        print(marker_dict[words_in_dates[i][j]])\n",
    "        temp.append(marker_dict[words_in_dates[i][j]])\n",
    "    \n",
    "    markers_array.append(temp)\n",
    "    temp = []"
   ]
  },
  {
   "cell_type": "code",
   "execution_count": 250,
   "metadata": {},
   "outputs": [
    {
     "data": {
      "text/plain": [
       "[['.', '.', ',', 'o', 'v'],\n",
       " ['^', '<', '>', '1', '2'],\n",
       " ['3', '4', '8', 's', 'p'],\n",
       " ['P', '*', 'h', 'H', '+']]"
      ]
     },
     "execution_count": 250,
     "metadata": {},
     "output_type": "execute_result"
    }
   ],
   "source": [
    "markers_array"
   ]
  },
  {
   "cell_type": "code",
   "execution_count": 251,
   "metadata": {
    "collapsed": true
   },
   "outputs": [],
   "source": [
    "def get_markers(words_in_dates):\n",
    "    markers = [\".\", \",\", \"o\", \"v\", \"^\", \"<\", \">\", \"1\", \"2\", \"3\", \"4\", \"8\", \"s\", \"p\", \"P\", \"*\", \"h\", \"H\", \"+\",\n",
    "               \"x\", \"X\", \"D\", \"d\", \"|\", \"_\", 'TICKLEFT', 'TICKRIGHT', 'TICKUP', 'TICKDOWN', 'CARETLEFT',\n",
    "               'CARETRIGHT', 'CARETUP', 'CARETDOWN', 'CARETLEFTBASE', 'CARETRIGHTBASE', 'CARETUPBASE']\n",
    "\n",
    "    marker_dict = {}\n",
    "    markers_array = []\n",
    "    temp = []\n",
    "    k = 0\n",
    "\n",
    "\n",
    "    for i in range(len(words_in_dates)):\n",
    "        for j in range(len(words_in_dates[i])):\n",
    "            if words_in_dates[i][j] in marker_dict:\n",
    "                pass\n",
    "            if words_in_dates[i][j] not in marker_dict:\n",
    "                marker_dict[words_in_dates[i][j]] = markers[k]\n",
    "                k += 1\n",
    "\n",
    "\n",
    "    for i in range(len(words_in_dates)):\n",
    "        for j in range(len(words_in_dates[i])):\n",
    "            temp.append(marker_dict[words_in_dates[i][j]])\n",
    "\n",
    "        markers_array.append(temp)\n",
    "        temp = []\n",
    "\n",
    "    return markers_array"
   ]
  },
  {
   "cell_type": "code",
   "execution_count": 252,
   "metadata": {
    "scrolled": false
   },
   "outputs": [
    {
     "data": {
      "text/plain": [
       "[['.', '.', ',', 'o', 'v'],\n",
       " ['^', '<', '>', '1', '2'],\n",
       " ['3', '4', '8', 's', 'p'],\n",
       " ['P', '*', 'h', 'H', '+']]"
      ]
     },
     "execution_count": 252,
     "metadata": {},
     "output_type": "execute_result"
    }
   ],
   "source": [
    "get_markers(words_in_dates)"
   ]
  },
  {
   "cell_type": "code",
   "execution_count": 271,
   "metadata": {
    "scrolled": true
   },
   "outputs": [
    {
     "data": {
      "text/plain": [
       "[['.', '.', ',', 'o', 'v'],\n",
       " ['^', '<', '>', '1', '2'],\n",
       " ['3', '4', '8', 's', 'p'],\n",
       " ['P', '*', 'h', 'H', '+']]"
      ]
     },
     "execution_count": 271,
     "metadata": {},
     "output_type": "execute_result"
    }
   ],
   "source": [
    "markers_array"
   ]
  },
  {
   "cell_type": "code",
   "execution_count": 272,
   "metadata": {},
   "outputs": [
    {
     "data": {
      "text/plain": [
       "[['Pak-Afghan Pakistan border',\n",
       "  'Pak-Afghan Pakistan border',\n",
       "  'Pak-Iran terrorists border',\n",
       "  'agreed Pakistan Iran',\n",
       "  'Gen IRGC Bajwa'],\n",
       " ['message video political',\n",
       "  'Mohajir community political',\n",
       "  'however MQM political',\n",
       "  'message Musharraf video',\n",
       "  'message Musharraf political'],\n",
       " ['New Zealand match',\n",
       "  'Australia hosts match',\n",
       "  'play match Pakistan',\n",
       "  'women New Zealand',\n",
       "  'five wickets balls'],\n",
       " ['arrested statement suspects',\n",
       "  'At least killed',\n",
       "  'five people wounded',\n",
       "  'people said wounded',\n",
       "  'suffered arm face']]"
      ]
     },
     "execution_count": 272,
     "metadata": {},
     "output_type": "execute_result"
    }
   ],
   "source": [
    "words_in_dates"
   ]
  },
  {
   "cell_type": "code",
   "execution_count": 273,
   "metadata": {},
   "outputs": [
    {
     "name": "stdout",
     "output_type": "stream",
     "text": [
      "['Pak-Afghan Pakistan border', 'Pak-Afghan Pakistan border', 'Pak-Iran terrorists border', 'agreed Pakistan Iran', 'Gen IRGC Bajwa', 'message video political', 'Mohajir community political', 'however MQM political', 'message Musharraf video', 'message Musharraf political', 'New Zealand match', 'Australia hosts match', 'play match Pakistan', 'women New Zealand', 'five wickets balls', 'arrested statement suspects', 'At least killed', 'five people wounded', 'people said wounded', 'suffered arm face', 'Pak-Afghan Pakistan border', 'Pak-Afghan Pakistan border', 'Pak-Iran terrorists border', 'agreed Pakistan Iran', 'Gen IRGC Bajwa', 'message video political', 'Mohajir community political', 'however MQM political', 'message Musharraf video', 'message Musharraf political', 'New Zealand match', 'Australia hosts match', 'play match Pakistan', 'women New Zealand', 'five wickets balls', 'arrested statement suspects', 'At least killed', 'five people wounded', 'people said wounded', 'suffered arm face', 'Pak-Afghan Pakistan border', 'Pak-Afghan Pakistan border', 'Pak-Iran terrorists border', 'agreed Pakistan Iran', 'Gen IRGC Bajwa', 'message video political', 'Mohajir community political', 'however MQM political', 'message Musharraf video', 'message Musharraf political', 'New Zealand match', 'Australia hosts match', 'play match Pakistan', 'women New Zealand', 'five wickets balls', 'arrested statement suspects', 'At least killed', 'five people wounded', 'people said wounded', 'suffered arm face', 'Pak-Afghan Pakistan border', 'Pak-Afghan Pakistan border', 'Pak-Iran terrorists border', 'agreed Pakistan Iran', 'Gen IRGC Bajwa', 'message video political', 'Mohajir community political', 'however MQM political', 'message Musharraf video', 'message Musharraf political', 'New Zealand match', 'Australia hosts match', 'play match Pakistan', 'women New Zealand', 'five wickets balls', 'arrested statement suspects', 'At least killed', 'five people wounded', 'people said wounded', 'suffered arm face']\n"
     ]
    }
   ],
   "source": [
    "from collections import OrderedDict\n",
    "import matplotlib.pyplot as plt\n",
    "\n",
    "handles, labels = plt.gca().get_legend_handles_labels()\n",
    "by_label = OrderedDict(zip(labels, handles))\n",
    "plt.legend(by_label.values(), by_label.keys())"
   ]
  },
  {
   "cell_type": "code",
   "execution_count": 332,
   "metadata": {
    "scrolled": true
   },
   "outputs": [
    {
     "data": {
      "text/plain": [
       "<matplotlib.legend.Legend at 0x7faae1308eb8>"
      ]
     },
     "execution_count": 332,
     "metadata": {},
     "output_type": "execute_result"
    }
   ],
   "source": [
    "\n",
    "for j in range(len(magnitude_per_words)):\n",
    "    for k in range(len(magnitude_per_words[j])):\n",
    "        plt.scatter(x_coordinates[j][k], y_coordinates[j][k], s=100, c='b', \n",
    "                    marker=markers_array[j][k], label=words_in_dates[j][k])\n",
    "        #plt.legend(words_in_dates[j][k])\n",
    "        #print(words_in_dates[j][k])\n",
    "\n",
    "plt.title(\"WORDS USED IN TODAY'S NEWS\")\n",
    "plt.xticks(list(range(1, len(dates) + 1)), dates)\n",
    "plt.yticks(list(range(1, len(magnitude_per_words[0]) + 1)))\n",
    "\n",
    "handles, labels = plt.gca().get_legend_handles_labels()\n",
    "by_label = OrderedDict(zip(labels, handles))\n",
    "plt.legend(by_label.values(), by_label.keys(),bbox_to_anchor=(1.03, 1.03))"
   ]
  },
  {
   "cell_type": "code",
   "execution_count": 333,
   "metadata": {
    "scrolled": true
   },
   "outputs": [
    {
     "data": {
      "image/png": "[encoded data removed]",
      "text/plain": [
       "<matplotlib.figure.Figure at 0x7faae1970518>"
      ]
     },
     "metadata": {},
     "output_type": "display_data"
    }
   ],
   "source": [
    "plt.show()\n",
    "plt.clf()"
   ]
  },
  {
   "cell_type": "code",
   "execution_count": 307,
   "metadata": {},
   "outputs": [],
   "source": [
    "qwe, asd =plt.yticks()"
   ]
  },
  {
   "cell_type": "code",
   "execution_count": 311,
   "metadata": {},
   "outputs": [
    {
     "name": "stdout",
     "output_type": "stream",
     "text": [
      "[1, 2, 3, 4, 5]\n"
     ]
    }
   ],
   "source": [
    "print(list(range(1, len(magnitude_per_words[0]) + 1)))"
   ]
  }
 ],
 "metadata": {
  "kernelspec": {
   "display_name": "Python 3",
   "language": "python",
   "name": "python3"
  },
  "language_info": {
   "codemirror_mode": {
    "name": "ipython",
    "version": 3
   },
   "file_extension": ".py",
   "mimetype": "text/x-python",
   "name": "python",
   "nbconvert_exporter": "python",
   "pygments_lexer": "ipython3",
   "version": "3.6.2"
  }
 },
 "nbformat": 4,
 "nbformat_minor": 2
}
