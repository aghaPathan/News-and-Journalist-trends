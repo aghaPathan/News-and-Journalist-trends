{
 "cells": [
  {
   "cell_type": "code",
   "execution_count": 1,
   "metadata": {},
   "outputs": [
    {
     "name": "stdout",
     "output_type": "stream",
     "text": [
      "/home/agha/Sir Naeem/next/project/November\n",
      "/home/agha/Sir Naeem/next/project/grand_data.png\n",
      "/home/agha/Sir Naeem/next/project/data_processing3.py\n",
      "/home/agha/Sir Naeem/next/project/December\n",
      "/home/agha/Sir Naeem/next/project/October\n",
      "/home/agha/Sir Naeem/next/project/September\n"
     ]
    },
    {
     "data": {
      "text/plain": [
       "'/home/agha/Sir Naeem'"
      ]
     },
     "execution_count": 1,
     "metadata": {},
     "output_type": "execute_result"
    }
   ],
   "source": [
    "import os \n",
    "import matplotlib.pyplot as plt\n",
    "parent_dir = \"/home/agha/Sir Naeem/next/project\"\n",
    "\n",
    "############################### Grand OutPut File ###################################\n",
    "#global grand_out\n",
    "grand_out = 'grand_data.out'\n",
    "\n",
    "############################## IF GRANDE OUTPUT EXSIST ###############################\n",
    "\n",
    "#if grand_out in os.listdir(directory):\n",
    "#    os.remove(grand_out)\n",
    "\n",
    "################################## Data Refine #######################################\n",
    "\n",
    "for filename in os.listdir(parent_dir):\n",
    "    #if '.' not in filename:       \n",
    "    child_dir = parent_dir + '/' + filename\n",
    "    print(child_dir)\n",
    "    #if grand_out in os.listdir(child_dir):\n",
    "    #    os.remove(grand_out)\n",
    "os.path.realpath(os.getcwd())"
   ]
  },
  {
   "cell_type": "code",
   "execution_count": 2,
   "metadata": {},
   "outputs": [
    {
     "ename": "FileNotFoundError",
     "evalue": "[Errno 2] No such file or directory: '/home/agha/Sir Naeem/next/project/Nov 1/grand_data.out'",
     "output_type": "error",
     "traceback": [
      "\u001b[0;31m---------------------------------------------------------------------------\u001b[0m",
      "\u001b[0;31mFileNotFoundError\u001b[0m                         Traceback (most recent call last)",
      "\u001b[0;32m<ipython-input-2-0b7d8a1e6be8>\u001b[0m in \u001b[0;36m<module>\u001b[0;34m()\u001b[0m\n\u001b[1;32m      1\u001b[0m \u001b[0mfile\u001b[0m \u001b[0;34m=\u001b[0m \u001b[0;34m'/home/agha/Sir Naeem/next/project/Nov 1/grand_data.out'\u001b[0m\u001b[0;34m\u001b[0m\u001b[0m\n\u001b[0;32m----> 2\u001b[0;31m \u001b[0mf\u001b[0m \u001b[0;34m=\u001b[0m \u001b[0mopen\u001b[0m\u001b[0;34m(\u001b[0m\u001b[0mfile\u001b[0m\u001b[0;34m,\u001b[0m \u001b[0;34m'r'\u001b[0m\u001b[0;34m)\u001b[0m\u001b[0;34m\u001b[0m\u001b[0m\n\u001b[0m\u001b[1;32m      3\u001b[0m \u001b[0mtemp\u001b[0m \u001b[0;34m=\u001b[0m \u001b[0mf\u001b[0m\u001b[0;34m.\u001b[0m\u001b[0mread\u001b[0m\u001b[0;34m(\u001b[0m\u001b[0;34m)\u001b[0m\u001b[0;34m\u001b[0m\u001b[0m\n\u001b[1;32m      4\u001b[0m \u001b[0mtemp\u001b[0m \u001b[0;34m=\u001b[0m \u001b[0mtemp\u001b[0m\u001b[0;34m.\u001b[0m\u001b[0msplit\u001b[0m\u001b[0;34m(\u001b[0m\u001b[0;34m'\\n'\u001b[0m\u001b[0;34m)\u001b[0m\u001b[0;34m\u001b[0m\u001b[0m\n\u001b[1;32m      5\u001b[0m \u001b[0melement\u001b[0m \u001b[0;34m=\u001b[0m \u001b[0;34m[\u001b[0m\u001b[0;34m]\u001b[0m\u001b[0;34m\u001b[0m\u001b[0m\n",
      "\u001b[0;31mFileNotFoundError\u001b[0m: [Errno 2] No such file or directory: '/home/agha/Sir Naeem/next/project/Nov 1/grand_data.out'"
     ]
    }
   ],
   "source": [
    "file = '/home/agha/Sir Naeem/next/project/Nov 1/grand_data.out'\n",
    "f = open(file, 'r')\n",
    "temp = f.read()\n",
    "temp = temp.split('\\n')\n",
    "element = []\n",
    "key = ''\n",
    "value = 0\n",
    "day_dict = {}\n",
    "#print(temp)\n",
    "for x in temp:\n",
    "    #print(x.split())\n",
    "    element = x.split()\n",
    "    for y in element:\n",
    "        if y != element[-1]:\n",
    "            if y is element[-2]:\n",
    "                key = key + str(y)\n",
    "            else:\n",
    "                key = key + str(y) + ' '\n",
    "            \n",
    "        if y == element[-1]:\n",
    "            value = y.strip('()')\n",
    "            day_dict[key] = value\n",
    "            key = ''\n",
    "            value = 0\n",
    "            \n",
    "def removekey(d, key):\n",
    "    r = dict(d)\n",
    "    del r[key]\n",
    "    return r\n",
    "\n",
    "for key, value in day_dict.items():\n",
    "    if '\"' in key:\n",
    "        removekey(day_dict, key)\n",
    "        #del day_dict[key]\n",
    "    #print(key)\n",
    "    "
   ]
  },
  {
   "cell_type": "code",
   "execution_count": 3,
   "metadata": {
    "collapsed": true,
    "scrolled": true
   },
   "outputs": [],
   "source": [
    "from collections import Counter\n",
    "import operator"
   ]
  },
  {
   "cell_type": "code",
   "execution_count": 4,
   "metadata": {},
   "outputs": [
    {
     "ename": "NameError",
     "evalue": "name 'day_dict' is not defined",
     "output_type": "error",
     "traceback": [
      "\u001b[0;31m---------------------------------------------------------------------------\u001b[0m",
      "\u001b[0;31mNameError\u001b[0m                                 Traceback (most recent call last)",
      "\u001b[0;32m<ipython-input-4-45acbdf3a589>\u001b[0m in \u001b[0;36m<module>\u001b[0;34m()\u001b[0m\n\u001b[1;32m      1\u001b[0m \u001b[0;31m#day_dict = sorted(day_dict)\u001b[0m\u001b[0;34m\u001b[0m\u001b[0;34m\u001b[0m\u001b[0m\n\u001b[1;32m      2\u001b[0m \u001b[0;31m#sorted(day_dict, key=day_dict.get, reverse=True)[:5]\u001b[0m\u001b[0;34m\u001b[0m\u001b[0;34m\u001b[0m\u001b[0m\n\u001b[0;32m----> 3\u001b[0;31m \u001b[0mdict\u001b[0m\u001b[0;34m(\u001b[0m\u001b[0mCounter\u001b[0m\u001b[0;34m(\u001b[0m\u001b[0mday_dict\u001b[0m\u001b[0;34m)\u001b[0m\u001b[0;34m.\u001b[0m\u001b[0mmost_common\u001b[0m\u001b[0;34m(\u001b[0m\u001b[0;36m7\u001b[0m\u001b[0;34m)\u001b[0m\u001b[0;34m)\u001b[0m\u001b[0;34m\u001b[0m\u001b[0m\n\u001b[0m",
      "\u001b[0;31mNameError\u001b[0m: name 'day_dict' is not defined"
     ]
    }
   ],
   "source": [
    "#day_dict = sorted(day_dict)\n",
    "#sorted(day_dict, key=day_dict.get, reverse=True)[:5]\n",
    "dict(Counter(day_dict).most_common(7))"
   ]
  },
  {
   "cell_type": "code",
   "execution_count": 5,
   "metadata": {},
   "outputs": [
    {
     "ename": "NameError",
     "evalue": "name 'day_dict' is not defined",
     "output_type": "error",
     "traceback": [
      "\u001b[0;31m---------------------------------------------------------------------------\u001b[0m",
      "\u001b[0;31mNameError\u001b[0m                                 Traceback (most recent call last)",
      "\u001b[0;32m<ipython-input-5-92a564eb8d43>\u001b[0m in \u001b[0;36m<module>\u001b[0;34m()\u001b[0m\n\u001b[0;32m----> 1\u001b[0;31m \u001b[0;32mfor\u001b[0m \u001b[0mkey\u001b[0m\u001b[0;34m,\u001b[0m \u001b[0mvalue\u001b[0m \u001b[0;32min\u001b[0m \u001b[0mday_dict\u001b[0m\u001b[0;34m.\u001b[0m\u001b[0mitems\u001b[0m\u001b[0;34m(\u001b[0m\u001b[0;34m)\u001b[0m\u001b[0;34m:\u001b[0m\u001b[0;34m\u001b[0m\u001b[0m\n\u001b[0m\u001b[1;32m      2\u001b[0m     \u001b[0mprint\u001b[0m\u001b[0;34m(\u001b[0m\u001b[0mkey\u001b[0m\u001b[0;34m,\u001b[0m\u001b[0mvalue\u001b[0m\u001b[0;34m)\u001b[0m\u001b[0;34m\u001b[0m\u001b[0m\n",
      "\u001b[0;31mNameError\u001b[0m: name 'day_dict' is not defined"
     ]
    }
   ],
   "source": [
    "for key, value in day_dict.items():\n",
    "    print(key,value)"
   ]
  },
  {
   "cell_type": "code",
   "execution_count": 6,
   "metadata": {},
   "outputs": [
    {
     "ename": "KeyError",
     "evalue": "'Panama'",
     "output_type": "error",
     "traceback": [
      "\u001b[0;31m---------------------------------------------------------------------------\u001b[0m",
      "\u001b[0;31mKeyError\u001b[0m                                  Traceback (most recent call last)",
      "\u001b[0;32m<ipython-input-6-44cdd5e58bdd>\u001b[0m in \u001b[0;36m<module>\u001b[0;34m()\u001b[0m\n\u001b[0;32m----> 1\u001b[0;31m \u001b[0mday_dict\u001b[0m\u001b[0;34m[\u001b[0m\u001b[0;34m'Panama'\u001b[0m\u001b[0;34m]\u001b[0m\u001b[0;34m\u001b[0m\u001b[0m\n\u001b[0m",
      "\u001b[0;31mKeyError\u001b[0m: 'Panama'"
     ]
    }
   ],
   "source": [
    "day_dict['Panama']"
   ]
  },
  {
   "cell_type": "code",
   "execution_count": 62,
   "metadata": {
    "collapsed": true
   },
   "outputs": [],
   "source": [
    "monthly ={'Nov 4': {'Sharif': '77.7778', 'Asad': '43.75', 'best': '40', 'team': '40', 'Karachi': '40', 'Tando': '37.5', 'Bago': '37.5'}, 'Nov 1': {'policy': '46.1538', 'Sharif': '45.4545', 'fresh': '44', 'seats': '40', 'delimitation': '36', 'party': '27.2727', 'The': '27.2727'}, 'Nov 3': {'says': '40', 'court': '40', 'Panama': '40', 'Papers': '40', 'petitions': '40', 'Nawaz': '40', 'Sharif': '40'}, 'Nov 2': {'Bank': '56.25', 'Pakistan': '50', 'border': '50', 'Iran': '50', 'Bajwa': '50', 'tax': '47.8261', 'would': '37.5'}}\n"
   ]
  },
  {
   "cell_type": "code",
   "execution_count": 63,
   "metadata": {
    "collapsed": true
   },
   "outputs": [],
   "source": [
    "import collections"
   ]
  },
  {
   "cell_type": "code",
   "execution_count": 64,
   "metadata": {
    "collapsed": true
   },
   "outputs": [],
   "source": [
    "monthly = dict(collections.OrderedDict(sorted(monthly.items())))"
   ]
  },
  {
   "cell_type": "code",
   "execution_count": 65,
   "metadata": {
    "scrolled": true
   },
   "outputs": [
    {
     "data": {
      "text/plain": [
       "{'Nov 1': {'Sharif': '45.4545',\n",
       "  'The': '27.2727',\n",
       "  'delimitation': '36',\n",
       "  'fresh': '44',\n",
       "  'party': '27.2727',\n",
       "  'policy': '46.1538',\n",
       "  'seats': '40'},\n",
       " 'Nov 2': {'Bajwa': '50',\n",
       "  'Bank': '56.25',\n",
       "  'Iran': '50',\n",
       "  'Pakistan': '50',\n",
       "  'border': '50',\n",
       "  'tax': '47.8261',\n",
       "  'would': '37.5'},\n",
       " 'Nov 3': {'Nawaz': '40',\n",
       "  'Panama': '40',\n",
       "  'Papers': '40',\n",
       "  'Sharif': '40',\n",
       "  'court': '40',\n",
       "  'petitions': '40',\n",
       "  'says': '40'},\n",
       " 'Nov 4': {'Asad': '43.75',\n",
       "  'Bago': '37.5',\n",
       "  'Karachi': '40',\n",
       "  'Sharif': '77.7778',\n",
       "  'Tando': '37.5',\n",
       "  'best': '40',\n",
       "  'team': '40'}}"
      ]
     },
     "execution_count": 65,
     "metadata": {},
     "output_type": "execute_result"
    }
   ],
   "source": [
    "monthly"
   ]
  },
  {
   "cell_type": "code",
   "execution_count": 66,
   "metadata": {
    "collapsed": true
   },
   "outputs": [],
   "source": [
    "import math \n",
    "dates = []\n",
    "words_in_dates = []\n",
    "magnitude_per_words = []\n",
    "temp_w = []\n",
    "temp_m = []\n",
    "temp_area = []\n",
    "area = []"
   ]
  },
  {
   "cell_type": "code",
   "execution_count": 67,
   "metadata": {
    "collapsed": true,
    "scrolled": true
   },
   "outputs": [],
   "source": [
    "for day, value in monthly.items():\n",
    "    dates.append(day)\n",
    "    for words, magnitude in value.items():\n",
    "        temp_w.append(words)\n",
    "        temp_m.append(float(magnitude))\n",
    "        for x in magnitude.split():\n",
    "            temp_area.append(round(2 * math.pi * float(x))*4)\n",
    "    \n",
    "    \n",
    "    area.append(temp_area)        \n",
    "    words_in_dates.append(temp_w)\n",
    "    magnitude_per_words.append(temp_m)\n",
    "    temp_w = []\n",
    "    temp_m = []\n",
    "    temp_area = []\n",
    "    "
   ]
  },
  {
   "cell_type": "code",
   "execution_count": 68,
   "metadata": {
    "scrolled": true
   },
   "outputs": [
    {
     "data": {
      "text/plain": [
       "['Nov 1', 'Nov 2', 'Nov 3', 'Nov 4']"
      ]
     },
     "execution_count": 68,
     "metadata": {},
     "output_type": "execute_result"
    }
   ],
   "source": [
    "dates"
   ]
  },
  {
   "cell_type": "code",
   "execution_count": 69,
   "metadata": {},
   "outputs": [
    {
     "data": {
      "text/plain": [
       "[['policy', 'Sharif', 'fresh', 'seats', 'delimitation', 'party', 'The'],\n",
       " ['Bank', 'Pakistan', 'border', 'Iran', 'Bajwa', 'tax', 'would'],\n",
       " ['says', 'court', 'Panama', 'Papers', 'petitions', 'Nawaz', 'Sharif'],\n",
       " ['Sharif', 'Asad', 'best', 'team', 'Karachi', 'Tando', 'Bago']]"
      ]
     },
     "execution_count": 69,
     "metadata": {},
     "output_type": "execute_result"
    }
   ],
   "source": [
    "words_in_dates"
   ]
  },
  {
   "cell_type": "code",
   "execution_count": 70,
   "metadata": {},
   "outputs": [
    {
     "data": {
      "text/plain": [
       "[[1160, 1144, 1104, 1004, 904, 684, 684],\n",
       " [1412, 1256, 1256, 1256, 1256, 1204, 944],\n",
       " [1004, 1004, 1004, 1004, 1004, 1004, 1004],\n",
       " [1956, 1100, 1004, 1004, 1004, 944, 944]]"
      ]
     },
     "execution_count": 70,
     "metadata": {},
     "output_type": "execute_result"
    }
   ],
   "source": [
    "area"
   ]
  },
  {
   "cell_type": "code",
   "execution_count": 71,
   "metadata": {
    "scrolled": false
   },
   "outputs": [
    {
     "data": {
      "text/plain": [
       "[[46.1538, 45.4545, 44.0, 40.0, 36.0, 27.2727, 27.2727],\n",
       " [56.25, 50.0, 50.0, 50.0, 50.0, 47.8261, 37.5],\n",
       " [40.0, 40.0, 40.0, 40.0, 40.0, 40.0, 40.0],\n",
       " [77.7778, 43.75, 40.0, 40.0, 40.0, 37.5, 37.5]]"
      ]
     },
     "execution_count": 71,
     "metadata": {},
     "output_type": "execute_result"
    }
   ],
   "source": [
    "magnitude_per_words"
   ]
  },
  {
   "cell_type": "code",
   "execution_count": 73,
   "metadata": {},
   "outputs": [
    {
     "name": "stdout",
     "output_type": "stream",
     "text": [
      "[[1, 1, 1, 1, 1, 1, 1], [2, 2, 2, 2, 2, 2, 2], [3, 3, 3, 3, 3, 3, 3], [4, 4, 4, 4, 4, 4, 4]]\n",
      "[[1, 2, 3, 4, 5, 6, 7], [1, 2, 3, 4, 5, 6, 7], [1, 2, 3, 4, 5, 6, 7], [1, 2, 3, 4, 5, 6, 7]]\n"
     ]
    }
   ],
   "source": [
    "x_coordinates = []\n",
    "y_coordinates = []\n",
    "temp_x = []\n",
    "temp_y = []\n",
    "for i in range(len(magnitude_per_words)):\n",
    "    for j in range(len(magnitude_per_words[i])):\n",
    "        temp_x.append(i+1)\n",
    "        temp_y.append(j+1)\n",
    "    x_coordinates.append(temp_x)\n",
    "    y_coordinates.append(temp_y)\n",
    "    temp_x = []\n",
    "    temp_y = []\n",
    "print(x_coordinates)\n",
    "print(y_coordinates)"
   ]
  },
  {
   "cell_type": "code",
   "execution_count": 45,
   "metadata": {
    "collapsed": true
   },
   "outputs": [],
   "source": [
    "import numpy as np"
   ]
  },
  {
   "cell_type": "code",
   "execution_count": 74,
   "metadata": {
    "scrolled": true
   },
   "outputs": [
    {
     "data": {
      "image/png": "[encoded data removed]",
      "text/plain": [
       "<matplotlib.figure.Figure at 0x7f68be902c88>"
      ]
     },
     "metadata": {},
     "output_type": "display_data"
    }
   ],
   "source": [
    "\n",
    "\n",
    "for i in range(len(dates)):\n",
    "    for j in range(len(magnitude_per_words)):\n",
    "        for k in range(len(magnitude_per_words[j])):\n",
    "            #print(magnitude_per_words[j][k])\n",
    "            plt.text(x=x_coordinates[j][k], y=y_coordinates[j][k], s=words_in_dates[j][k],\n",
    "                     fontsize=8, horizontalalignment='center')\n",
    "            \n",
    "\n",
    "plt.title(\"WORDS USED IN TODAY'S NEWS\")\n",
    "plt.xlabel('Month Of November')\n",
    "plt.ylabel('Number Of Trends')\n",
    "# xticks( arange(5), ('Tom', 'Dick', 'Harry', 'Sally', 'Sue') )\n",
    "#plt.yticks(list(range(1, 10+ 1)))\n",
    "plt.xticks(list(range(1, len(dates) + 1)), dates)\n",
    "            \n",
    "plt.scatter(x_coordinates, y_coordinates,s=area, linewidths=2, edgecolor='w')\n",
    "plt.show()\n",
    "\n",
    "#plt.savefig('/home/agha/Sir Naeem/grand_data.png', format='png', dpi=1000)\n",
    "plt.clf()\n"
   ]
  },
  {
   "cell_type": "code",
   "execution_count": 52,
   "metadata": {
    "scrolled": true
   },
   "outputs": [
    {
     "data": {
      "text/plain": [
       "array([ 0. ,  0.2,  0.4,  0.6,  0.8,  1. ])"
      ]
     },
     "execution_count": 52,
     "metadata": {},
     "output_type": "execute_result"
    }
   ],
   "source": [
    "locs, labels = plt.yticks()\n",
    "#import numpy as np\n",
    "locs"
   ]
  },
  {
   "cell_type": "code",
   "execution_count": 75,
   "metadata": {
    "collapsed": true
   },
   "outputs": [],
   "source": [
    "import numpy as np\n",
    "import os"
   ]
  },
  {
   "cell_type": "code",
   "execution_count": 78,
   "metadata": {
    "scrolled": true
   },
   "outputs": [
    {
     "name": "stdout",
     "output_type": "stream",
     "text": [
      "Nov 4\n",
      "Nov 1\n",
      "Nov 5\n",
      "Nov 3\n",
      "Nov 2\n",
      "Dec 5\n",
      "Dec 2\n",
      "Dec 1\n",
      "Dec 4\n",
      "Dec 3\n"
     ]
    }
   ],
   "source": [
    "month_dir = ''\n",
    "day_dir = ''\n",
    "root = '/home/agha/Sir Naeem/next/project/'\n",
    "for month_folder in os.listdir(root):\n",
    "    if '.' not in month_folder:        \n",
    "        month_dir = parent_dir + '/' + month_folder + '/'\n",
    "        os.chdir(month_dir)\n",
    "        for day_folder in os.listdir(month_dir):\n",
    "            if '.' not in day_folder: \n",
    "                print(day_folder)\n",
    "        \n",
    "        "
   ]
  },
  {
   "cell_type": "code",
   "execution_count": 187,
   "metadata": {
    "collapsed": true
   },
   "outputs": [],
   "source": [
    "year_dict = {'November': {'Nov 1': {'political': '66.6667', 'Trump': '48.5714', 'policy': '46.1538', 'Sharif': '45.4545', 'fresh': '44'}, 'Nov 2': {'Iran': '50', 'Pakistan': '50', 'border': '50', 'Bajwa': '50', 'trust': '40.625'}, 'Nov 3': {'biometric': '58.3333', 'verification': '50', 'Saudi': '50', 'first': '44.4444', 'list': '44.4444'}, 'Nov 4': {'Sharif': '77.7778', 'bombs': '66.6667', 'Myanmar': '53.3333', 'Asad': '43.75', 'best': '40'}, 'Nov 5': {'counsel': '55.5556', 'Supreme': '50', 'JIT': '41.6667', 'members': '41.6667', 'provided': '41.6667'}}, 'December': {'Dec 1': {'political': '66.6667', 'Trump': '48.5714', 'policy': '46.1538', 'Sharif': '45.4545', 'fresh': '44'}, 'Dec 2': {'Iran': '50', 'Pakistan': '50', 'border': '50', 'Bajwa': '50', 'trust': '40.625'}, 'Dec 3': {'biometric': '58.3333', 'verification': '50', 'Saudi': '50', 'first': '44.4444', 'list': '44.4444'}, 'Dec 4': {'Sharif': '77.7778', 'bombs': '66.6667', 'Myanmar': '53.3333', 'Asad': '43.75', 'best': '40'}, 'Dec 5': {'counsel': '55.5556', 'Supreme': '50', 'JIT': '41.6667', 'members': '41.6667', 'provided': '41.6667'}}}"
   ]
  },
  {
   "cell_type": "code",
   "execution_count": null,
   "metadata": {
    "collapsed": true
   },
   "outputs": [],
   "source": []
  },
  {
   "cell_type": "code",
   "execution_count": 188,
   "metadata": {},
   "outputs": [
    {
     "data": {
      "text/plain": [
       "{'December': {'Sharif': '77.7778',\n",
       "  'biometric': '58.3333',\n",
       "  'bombs': '66.6667',\n",
       "  'counsel': '55.5556',\n",
       "  'political': '66.6667'},\n",
       " 'November': {'Sharif': '77.7778',\n",
       "  'biometric': '58.3333',\n",
       "  'bombs': '66.6667',\n",
       "  'counsel': '55.5556',\n",
       "  'political': '66.6667'}}"
      ]
     },
     "execution_count": 188,
     "metadata": {},
     "output_type": "execute_result"
    }
   ],
   "source": [
    "temp_dt = {}\n",
    "updated = {}\n",
    "for month, words_per_day in year_dict.items():\n",
    "    for key, value in words_per_day.items():\n",
    "        #print(value)\n",
    "        temp_dt.update(value)\n",
    "    \n",
    "    #print(temp_dt)\n",
    "    updated[month] = dict(Counter(temp_dt).most_common(5))\n",
    "    temp_dt = {}\n",
    "        #for key, value in value.items():\n",
    "        #    print(key)\n",
    "        #    temp_dt[month] = {key:value}\n",
    "year_dict = updated\n",
    "year_dict"
   ]
  },
  {
   "cell_type": "code",
   "execution_count": 178,
   "metadata": {
    "collapsed": true,
    "scrolled": true
   },
   "outputs": [],
   "source": [
    "def get_coordinates(year_dict):\n",
    "\n",
    "    dates = []\n",
    "    words_in_dates = []\n",
    "    magnitude_per_words = []\n",
    "    temp_w = []\n",
    "    temp_m = []\n",
    "    temp_area = []\n",
    "    area = []\n",
    "    x_coordinates = []\n",
    "    y_coordinates = []\n",
    "    temp_x = []\n",
    "    temp_y = []\n",
    "\n",
    "    for day, value in month_dict.items():\n",
    "        dates.append(day)\n",
    "        for words, magnitude in value.items():\n",
    "            temp_w.append(words)\n",
    "            temp_m.append(float(magnitude))\n",
    "            for x in magnitude.split():\n",
    "                temp_area.append(round(2 * math.pi * float(x))*4)\n",
    "                #temp_area.append(float(x))\n",
    "\n",
    "        area.append(temp_area)\n",
    "        words_in_dates.append(temp_w)\n",
    "        magnitude_per_words.append(temp_m)\n",
    "        temp_w = []\n",
    "        temp_m = []\n",
    "        temp_area = []\n",
    "\n",
    "\n",
    "    for i in range(len(magnitude_per_words)):\n",
    "        for j in range(len(magnitude_per_words[i])):\n",
    "            temp_x.append(i + 1)\n",
    "            temp_y.append(j + 1)\n",
    "        x_coordinates.append(temp_x)\n",
    "        y_coordinates.append(temp_y)\n",
    "        temp_x = []\n",
    "        temp_y = []\n",
    "\n",
    "\n",
    "\n",
    "    return dates ,x_coordinates, y_coordinates, words_in_dates, magnitude_per_words, area\n",
    "\n",
    "\n",
    "months ,x_coordinates, y_coordinates, words_in_dates, magnitude_per_words, area = get_coordinates(year_dict)"
   ]
  },
  {
   "cell_type": "code",
   "execution_count": 182,
   "metadata": {},
   "outputs": [
    {
     "data": {
      "text/plain": [
       "[[66.6667,\n",
       "  48.5714,\n",
       "  46.1538,\n",
       "  77.7778,\n",
       "  44.0,\n",
       "  50.0,\n",
       "  50.0,\n",
       "  50.0,\n",
       "  50.0,\n",
       "  40.625,\n",
       "  58.3333,\n",
       "  50.0,\n",
       "  50.0,\n",
       "  44.4444,\n",
       "  44.4444,\n",
       "  66.6667,\n",
       "  53.3333,\n",
       "  43.75,\n",
       "  40.0,\n",
       "  55.5556,\n",
       "  50.0,\n",
       "  41.6667,\n",
       "  41.6667,\n",
       "  41.6667],\n",
       " [66.6667,\n",
       "  48.5714,\n",
       "  46.1538,\n",
       "  77.7778,\n",
       "  44.0,\n",
       "  50.0,\n",
       "  50.0,\n",
       "  50.0,\n",
       "  50.0,\n",
       "  40.625,\n",
       "  58.3333,\n",
       "  50.0,\n",
       "  50.0,\n",
       "  44.4444,\n",
       "  44.4444,\n",
       "  66.6667,\n",
       "  53.3333,\n",
       "  43.75,\n",
       "  40.0,\n",
       "  55.5556,\n",
       "  50.0,\n",
       "  41.6667,\n",
       "  41.6667,\n",
       "  41.6667]]"
      ]
     },
     "execution_count": 182,
     "metadata": {},
     "output_type": "execute_result"
    }
   ],
   "source": [
    "magnitude_per_words"
   ]
  },
  {
   "cell_type": "code",
   "execution_count": 165,
   "metadata": {
    "scrolled": false
   },
   "outputs": [
    {
     "data": {
      "text/plain": [
       "{'December': {'Dec 1': {'Sharif': '45.4545',\n",
       "   'Trump': '48.5714',\n",
       "   'fresh': '44',\n",
       "   'policy': '46.1538',\n",
       "   'political': '66.6667'},\n",
       "  'Dec 2': {'Bajwa': '50',\n",
       "   'Iran': '50',\n",
       "   'Pakistan': '50',\n",
       "   'border': '50',\n",
       "   'trust': '40.625'},\n",
       "  'Dec 3': {'Saudi': '50',\n",
       "   'biometric': '58.3333',\n",
       "   'first': '44.4444',\n",
       "   'list': '44.4444',\n",
       "   'verification': '50'},\n",
       "  'Dec 4': {'Asad': '43.75',\n",
       "   'Myanmar': '53.3333',\n",
       "   'Sharif': '77.7778',\n",
       "   'best': '40',\n",
       "   'bombs': '66.6667'},\n",
       "  'Dec 5': {'JIT': '41.6667',\n",
       "   'Supreme': '50',\n",
       "   'counsel': '55.5556',\n",
       "   'members': '41.6667',\n",
       "   'provided': '41.6667'}},\n",
       " 'November': {'Nov 1': {'Sharif': '45.4545',\n",
       "   'Trump': '48.5714',\n",
       "   'fresh': '44',\n",
       "   'policy': '46.1538',\n",
       "   'political': '66.6667'},\n",
       "  'Nov 2': {'Bajwa': '50',\n",
       "   'Iran': '50',\n",
       "   'Pakistan': '50',\n",
       "   'border': '50',\n",
       "   'trust': '40.625'},\n",
       "  'Nov 3': {'Saudi': '50',\n",
       "   'biometric': '58.3333',\n",
       "   'first': '44.4444',\n",
       "   'list': '44.4444',\n",
       "   'verification': '50'},\n",
       "  'Nov 4': {'Asad': '43.75',\n",
       "   'Myanmar': '53.3333',\n",
       "   'Sharif': '77.7778',\n",
       "   'best': '40',\n",
       "   'bombs': '66.6667'},\n",
       "  'Nov 5': {'JIT': '41.6667',\n",
       "   'Supreme': '50',\n",
       "   'counsel': '55.5556',\n",
       "   'members': '41.6667',\n",
       "   'provided': '41.6667'}}}"
      ]
     },
     "execution_count": 165,
     "metadata": {},
     "output_type": "execute_result"
    }
   ],
   "source": [
    "year_dict"
   ]
  },
  {
   "cell_type": "code",
   "execution_count": 164,
   "metadata": {},
   "outputs": [
    {
     "data": {
      "text/plain": [
       "{'December': {'Asad': '43.75',\n",
       "  'Bajwa': '50',\n",
       "  'Iran': '50',\n",
       "  'JIT': '41.6667',\n",
       "  'Myanmar': '53.3333',\n",
       "  'Pakistan': '50',\n",
       "  'Saudi': '50',\n",
       "  'Sharif': '77.7778',\n",
       "  'Supreme': '50',\n",
       "  'Trump': '48.5714',\n",
       "  'best': '40',\n",
       "  'biometric': '58.3333',\n",
       "  'bombs': '66.6667',\n",
       "  'border': '50',\n",
       "  'counsel': '55.5556',\n",
       "  'first': '44.4444',\n",
       "  'fresh': '44',\n",
       "  'list': '44.4444',\n",
       "  'members': '41.6667',\n",
       "  'policy': '46.1538',\n",
       "  'political': '66.6667',\n",
       "  'provided': '41.6667',\n",
       "  'trust': '40.625',\n",
       "  'verification': '50'},\n",
       " 'November': {'Asad': '43.75',\n",
       "  'Bajwa': '50',\n",
       "  'Iran': '50',\n",
       "  'JIT': '41.6667',\n",
       "  'Myanmar': '53.3333',\n",
       "  'Pakistan': '50',\n",
       "  'Saudi': '50',\n",
       "  'Sharif': '77.7778',\n",
       "  'Supreme': '50',\n",
       "  'Trump': '48.5714',\n",
       "  'best': '40',\n",
       "  'biometric': '58.3333',\n",
       "  'bombs': '66.6667',\n",
       "  'border': '50',\n",
       "  'counsel': '55.5556',\n",
       "  'first': '44.4444',\n",
       "  'fresh': '44',\n",
       "  'list': '44.4444',\n",
       "  'members': '41.6667',\n",
       "  'policy': '46.1538',\n",
       "  'political': '66.6667',\n",
       "  'provided': '41.6667',\n",
       "  'trust': '40.625',\n",
       "  'verification': '50'}}"
      ]
     },
     "execution_count": 164,
     "metadata": {},
     "output_type": "execute_result"
    }
   ],
   "source": [
    "updated"
   ]
  },
  {
   "cell_type": "code",
   "execution_count": null,
   "metadata": {
    "collapsed": true
   },
   "outputs": [],
   "source": []
  }
 ],
 "metadata": {
  "kernelspec": {
   "display_name": "Python 3",
   "language": "python",
   "name": "python3"
  },
  "language_info": {
   "codemirror_mode": {
    "name": "ipython",
    "version": 3
   },
   "file_extension": ".py",
   "mimetype": "text/x-python",
   "name": "python",
   "nbconvert_exporter": "python",
   "pygments_lexer": "ipython3",
   "version": "3.6.2"
  }
 },
 "nbformat": 4,
 "nbformat_minor": 2
}
